{
 "cells": [
  {
   "cell_type": "markdown",
   "id": "d5d8e747",
   "metadata": {},
   "source": [
    "# Analysis of BERT's knowledge of the Italian Subjunctive"
   ]
  },
  {
   "cell_type": "markdown",
   "id": "0f3aaa0f",
   "metadata": {},
   "source": [
    "### Imports"
   ]
  },
  {
   "cell_type": "code",
   "execution_count": 272,
   "id": "9521cc25",
   "metadata": {},
   "outputs": [],
   "source": [
    "import torch\n",
    "import torch.nn.functional as F\n",
    "from transformers import AutoModelForMaskedLM, AutoTokenizer, AutoModelForCausalLM\n",
    "import re\n",
    "from datasets import load_dataset"
   ]
  },
  {
   "cell_type": "markdown",
   "id": "1f93d4e5",
   "metadata": {},
   "source": [
    "### Functions for corpus creation and extraction of sentences with specific words"
   ]
  },
  {
   "cell_type": "code",
   "execution_count": 285,
   "id": "4eba180f",
   "metadata": {},
   "outputs": [],
   "source": [
    "# Returns a list of strings created from the opus100 dataset\n",
    "def create_corpus():\n",
    "    corpus = []\n",
    "    for entry in dataset['train']:\n",
    "        corpus.append(entry['translation']['it'])\n",
    "\n",
    "\n",
    "    sentence_pattern = re.compile(r'[^.!?]*[.!?]')\n",
    "    sentences = []\n",
    "    for entry in corpus:\n",
    "        sents = sentence_pattern.findall(entry)\n",
    "        for sent in sents:\n",
    "            sentences.append(sent.strip())\n",
    "    return sentences\n",
    "\n",
    "\n",
    "# Given a list of strings, returns a list of all the strings that contain the word\n",
    "def find_instances(corpus, word):\n",
    "    instances = []\n",
    "    for sentence in corpus:\n",
    "        pattern = re.compile(fr'\\b{re.escape(word)}\\b') #, flags=re.IGNORECASE\n",
    "        if pattern.findall(sentence):\n",
    "            instances.append(sentence.strip())\n",
    "    for sentence in instances:\n",
    "        if word.upper() in sentence:\n",
    "            instances.remove(sentence)\n",
    "    return instances\n",
    "\n",
    "\n",
    "# Returns tokenized sentence, replacing specified token with mask token id\n",
    "def tokenize_and_mask(sentence, word):\n",
    "    \n",
    "    mapping = tokenizer(sentence, return_tensors='pt')\n",
    "    tokens = mapping['input_ids'][0]\n",
    "    \n",
    "    mask_id = bert.tokenizer.mask_token_id\n",
    "    word_id_lower = tokenizer.convert_tokens_to_ids(word.lower())\n",
    "    word_id_cap = tokenizer.convert_tokens_to_ids(word.capitalize())\n",
    "    \n",
    "    for index, value in enumerate(tokens):\n",
    "        if value.item() == word_id_lower or value.item() == word_id_cap:\n",
    "            tokens[index] = mask_id\n",
    "            break\n",
    "    mapping['input_ids'][0] = tokens\n",
    "    return mapping\n",
    "\n"
   ]
  },
  {
   "cell_type": "code",
   "execution_count": 180,
   "id": "8b1963f0",
   "metadata": {},
   "outputs": [],
   "source": [
    "dataset = load_dataset(\"opus100\", \"en-it\")\n",
    "corpus = create_corpus()"
   ]
  },
  {
   "cell_type": "code",
   "execution_count": 330,
   "id": "307a2e8f",
   "metadata": {},
   "outputs": [],
   "source": [
    "se_constructions = [\"Se fosse un'infermiera, non avrebbe fatto un intervento chirurgico.\",\n",
    "             \"Se fosse più buio, avremmo un motivo per restare in casa.\",\n",
    "             \"Se fosse ricco, comprerebbe una casa.\",\n",
    "             \"Se non fosse tedesco, le piacerebbe questa insalata.\",\n",
    "             \"Se non fosse così timido, parlerebbe con te.\",\n",
    "             \"Se non fosse la direttrice, avrebbe più tempo.\"\n",
    "]\n",
    "verb_constructions = [\"Non credo che sia tedesco.\",\n",
    "            \"Penso che sia già molto vecchio.\",\n",
    "            \"Non penso che sia già molto vecchio.\",\n",
    "            \"Credo che sia già molto vecchio.\",\n",
    "            \"Non credo che sia vero che non possiamo farlo.\"]\n",
    "adjective_constructions = [\"È possibile che domani sia domenica.\",\n",
    "            \"È possibile che lo sia.\",\n",
    "            \"È impossibile che sia milionario.\",\n",
    "            \"È probabile che sia in ritardo.\",\n",
    "            \"È possibile che sia ora di andare.\",\n",
    "            \"Non è possibile che domani sia domenica.\",\n",
    "            \"Non è possibile che lo sia.\",\n",
    "            \"Non è impossibile che sia un millenario.\",\n",
    "            \"Non è possibile che sia in ritardo.\",\n",
    "            \"Non è possibile che sia ora di andare.\"]"
   ]
  },
  {
   "cell_type": "code",
   "execution_count": 284,
   "id": "9c0821a6",
   "metadata": {},
   "outputs": [],
   "source": [
    "class Bert():\n",
    "    \n",
    "    def __init__(self, name, mode, tokenizer):\n",
    "        self.name = name\n",
    "        self.model = model\n",
    "        self.tokenizer = tokenizer\n",
    "        self.mask_id = tokenizer.mask_token_id\n",
    "        self.mask = tokenizer.mask_token\n",
    "        \n",
    "    def tokenize(self, sentence):\n",
    "        tokenized_input = tokenizer(sentence, return_tensors='pt')\n",
    "        return tokenized_input\n",
    "    \n",
    "    def forward(self, tokens):\n",
    "        output = self.model(**tokens)\n",
    "        return output\n",
    "    \n",
    "    def logits(self, output, mask_location):\n",
    "        logits = F.softmax(output.logits[:,mask_location,:], dim=1).squeeze()\n",
    "        return logits\n",
    "    \n",
    "    def token_prob(self, logits, token):\n",
    "        return logits[tokenizer.convert_tokens_to_ids(token)].item()"
   ]
  },
  {
   "cell_type": "code",
   "execution_count": 282,
   "id": "2ae7639b",
   "metadata": {},
   "outputs": [
    {
     "name": "stderr",
     "output_type": "stream",
     "text": [
      "Some weights of the model checkpoint at dbmdz/bert-base-italian-cased were not used when initializing BertForMaskedLM: ['cls.seq_relationship.bias', 'cls.seq_relationship.weight']\n",
      "- This IS expected if you are initializing BertForMaskedLM from the checkpoint of a model trained on another task or with another architecture (e.g. initializing a BertForSequenceClassification model from a BertForPreTraining model).\n",
      "- This IS NOT expected if you are initializing BertForMaskedLM from the checkpoint of a model that you expect to be exactly identical (initializing a BertForSequenceClassification model from a BertForSequenceClassification model).\n",
      "Some weights of BertForMaskedLM were not initialized from the model checkpoint at dbmdz/bert-base-italian-cased and are newly initialized: ['cls.predictions.decoder.weight']\n",
      "You should probably TRAIN this model on a down-stream task to be able to use it for predictions and inference.\n"
     ]
    }
   ],
   "source": [
    "# model = AutoModelForMaskedLM.from_pretrained(\"bert-base-multilingual-cased\")\n",
    "# tokenizer = AutoTokenizer.from_pretrained('bert-base-multilingual-cased')\n",
    "# bert = Bert(\"bert\", model, tokenizer)\n",
    "# mask_id = bert.tokenizer.mask_token_id\n",
    "\n",
    "model = AutoModelForMaskedLM.from_pretrained(\"dbmdz/bert-base-italian-cased\")\n",
    "tokenizer = AutoTokenizer.from_pretrained('dbmdz/bert-base-italian-cased')\n",
    "bert = Bert(\"bert\", model, tokenizer)\n",
    "mask_id = bert.tokenizer.mask_token_id"
   ]
  },
  {
   "cell_type": "code",
   "execution_count": 283,
   "id": "161a7dcf",
   "metadata": {},
   "outputs": [],
   "source": [
    "# Given a sentence, this function masks a specified token and returns the\n",
    "# probability assigned to a token for that position\n",
    "\n",
    "def test_sentence(sentence, word_to_mask, word_to_test):\n",
    "    tokenized = tokenize_and_mask(sentence, word_to_mask)\n",
    "    try:\n",
    "        mask_location = list(tokenized['input_ids'][0]).index(mask_id)\n",
    "    except:\n",
    "        return None\n",
    "    return bert.token_prob(bert.logits(bert.forward(tokenized), mask_location), word_to_test)\n",
    "\n"
   ]
  },
  {
   "cell_type": "code",
   "execution_count": 12,
   "id": "9e972e23",
   "metadata": {},
   "outputs": [
    {
     "data": {
      "text/plain": [
       "0.20595484972000122"
      ]
     },
     "execution_count": 12,
     "metadata": {},
     "output_type": "execute_result"
    }
   ],
   "source": [
    "test_sentence('Non è necessario che [MASK] così.', 'sia', 'è')"
   ]
  },
  {
   "cell_type": "code",
   "execution_count": 40,
   "id": "d6e321e4",
   "metadata": {},
   "outputs": [
    {
     "data": {
      "text/plain": [
       "0.072059266269207"
      ]
     },
     "execution_count": 40,
     "metadata": {},
     "output_type": "execute_result"
    }
   ],
   "source": [
    "test_sentence('Non è necessario che [MASK] così.', 'sia', 'sia')"
   ]
  },
  {
   "cell_type": "code",
   "execution_count": 23,
   "id": "6523ca23",
   "metadata": {},
   "outputs": [
    {
     "data": {
      "text/plain": [
       "0.5012457370758057"
      ]
     },
     "execution_count": 23,
     "metadata": {},
     "output_type": "execute_result"
    }
   ],
   "source": [
    "test_sentence('Temo che lui sia malato.', 'sia', 'sia')"
   ]
  },
  {
   "cell_type": "code",
   "execution_count": 24,
   "id": "a8394dc8",
   "metadata": {},
   "outputs": [
    {
     "data": {
      "text/plain": [
       "0.4294617176055908"
      ]
     },
     "execution_count": 24,
     "metadata": {},
     "output_type": "execute_result"
    }
   ],
   "source": [
    "test_sentence('Temo che lui sia malato.', 'sia', 'è')"
   ]
  },
  {
   "cell_type": "code",
   "execution_count": 27,
   "id": "9702db7c",
   "metadata": {},
   "outputs": [],
   "source": [
    "a = bert.forward(bert.tokenize('Non credo che [MASK] veramente tedesco.'))\n",
    "b = bert.logits(a, 5)\n",
    "c = bert.token_prob(b, 'sia')\n"
   ]
  },
  {
   "cell_type": "code",
   "execution_count": 28,
   "id": "a701a52b",
   "metadata": {},
   "outputs": [
    {
     "data": {
      "text/plain": [
       "0.019019730389118195"
      ]
     },
     "execution_count": 28,
     "metadata": {},
     "output_type": "execute_result"
    }
   ],
   "source": [
    "bert.token_prob(b, 'sia')"
   ]
  },
  {
   "cell_type": "code",
   "execution_count": 29,
   "id": "7e0f0b23",
   "metadata": {},
   "outputs": [
    {
     "data": {
      "text/plain": [
       "0.7472403049468994"
      ]
     },
     "execution_count": 29,
     "metadata": {},
     "output_type": "execute_result"
    }
   ],
   "source": [
    "bert.token_prob(b, 'è')"
   ]
  },
  {
   "cell_type": "code",
   "execution_count": 30,
   "id": "b65dc980",
   "metadata": {},
   "outputs": [
    {
     "data": {
      "text/plain": [
       "0.019019730389118195"
      ]
     },
     "execution_count": 30,
     "metadata": {},
     "output_type": "execute_result"
    }
   ],
   "source": [
    "test_sentence('Non credo che sia veramente tedesco.', 'sia', 'sia')"
   ]
  },
  {
   "cell_type": "markdown",
   "id": "d728288a",
   "metadata": {},
   "source": [
    "## Experiment 1: Quantitative Analysis\n",
    "\n",
    "Comparison of accuracy for word pairs of contrasting grammatical mood"
   ]
  },
  {
   "cell_type": "code",
   "execution_count": 197,
   "id": "1983f1b6",
   "metadata": {},
   "outputs": [],
   "source": [
    "import random\n",
    "\n",
    "def replace_compare(corpus, n, word_1, word_2):\n",
    "\n",
    "    corp_1 = find_instances(corpus, word_1)\n",
    "    corp_1 = random.sample(corp_1, n)\n",
    "    corp_1_n_correct = 0\n",
    "    \n",
    "    odds = 0\n",
    "    odds_correct = 0\n",
    "    odds_false = 0\n",
    "    \n",
    "    congruent_probs = 0\n",
    "    incongruent_probs = 0\n",
    "    \n",
    "    correct_prob_congruent = 0\n",
    "    correct_prob_incongruent = 0\n",
    "    false_prob_congruent = 0\n",
    "    false_prob_incongruent = 0\n",
    "    \n",
    "    samples = []\n",
    "\n",
    "    for sentence in corp_1:\n",
    "        correct_prob = test_sentence(sentence, word_1, word_1)\n",
    "        false_prob = test_sentence(sentence, word_1, word_2)\n",
    "        if correct_prob == None:\n",
    "            #print(sentence)\n",
    "            continue\n",
    "        if false_prob == None:\n",
    "            #print(sentence)\n",
    "            continue\n",
    "\n",
    "        congruent_probs += correct_prob\n",
    "        incongruent_probs += false_prob\n",
    "        \n",
    "        odd = correct_prob / false_prob\n",
    "        odds += odd\n",
    "\n",
    "        if correct_prob >= false_prob:\n",
    "            corp_1_n_correct += 1\n",
    "            odds_correct += odd\n",
    "            correct_prob_congruent += correct_prob\n",
    "            false_prob_congruent += false_prob\n",
    "        else:\n",
    "            samples.append(sentence)\n",
    "            odds_false += odd\n",
    "            correct_prob_incongruent += correct_prob\n",
    "            false_prob_incongruent += false_prob\n",
    "            \n",
    "    corp_1_n_false = len(corp_1)-corp_1_n_correct\n",
    "    if corp_1_n_false == 0:\n",
    "        corp_1_n_false = 0.0000001\n",
    "    if corp_1_n_correct == 0:\n",
    "        corp_1_n_correct = 0.0000001\n",
    "        \n",
    "    print(f\"### {word_1} was replaced ###\")       \n",
    "    print(f'Accuracy when replacing \"{word_1}\": {100*corp_1_n_correct/len(corp_1)}%')\n",
    "    print(f'The average odds is: {odds/len(corp_1)}\\n')\n",
    "    \n",
    "    print(f'The average odds when predicting correctly is: {odds_correct/corp_1_n_correct}')\n",
    "    print(f'The average odds when predicting falsely is: {odds_false/corp_1_n_false}\\n')\n",
    "    \n",
    "    print(f'The average probability for {word_1} was: {congruent_probs/n}')\n",
    "    print(f'The average probability for {word_2} was: {incongruent_probs/n}\\n')\n",
    "    \n",
    "    print(f'The average probability for {word_1} when predicting correctly is: {correct_prob_congruent/corp_1_n_correct}')\n",
    "    print(f'The average probability for {word_2} when predicting correctly is: {false_prob_congruent/corp_1_n_correct}')\n",
    "    print(f'The average probability for {word_1} when predicting falsely is: {correct_prob_incongruent/corp_1_n_false}')\n",
    "    print(f'The average probability for {word_2} when predicting falsely is: {false_prob_incongruent/corp_1_n_false}\\n\\n')\n",
    "\n",
    "    if len(samples) > 5:\n",
    "        return samples[:5]\n",
    "    return samples\n",
    "    \n",
    "    \n",
    "\n",
    "def experiment_1(corpus, word_1, word_2, n):\n",
    "    samples = []\n",
    "    samples.append(replace_compare(corpus, n, word_1, word_2))\n",
    "    samples.append(replace_compare(corpus, n, word_2, word_1))\n",
    "    print(samples)\n",
    "    "
   ]
  },
  {
   "cell_type": "code",
   "execution_count": 220,
   "id": "b80d66fc",
   "metadata": {},
   "outputs": [
    {
     "name": "stdout",
     "output_type": "stream",
     "text": [
      "3\n"
     ]
    },
    {
     "data": {
      "text/plain": [
       "[102, 9354, 30879, 158, 496, 1099, 103]"
      ]
     },
     "execution_count": 220,
     "metadata": {},
     "output_type": "execute_result"
    }
   ],
   "source": [
    "# replace_compare(corpus, 5, 'sia', 'è')\n",
    "\n",
    "\n",
    "tokenized = tokenize_and_mask(\"Claro che sia cosi\", 'sia')\n",
    "try:\n",
    "    mask_location = list(tokenized['input_ids'][0]).index(mask_id)\n",
    "except:\n",
    "    print(3)\n",
    "\n",
    "#return bert.token_prob(bert.logits(bert.forward(tokenized), mask_location), word_to_test)\n",
    "#print(test_sentence(\"Claro sia eso\", 'sia', 'è'))\n",
    "tokenized['input_ids'][0]\n",
    "tokenizer(\"Claro che sia cosi\")['input_ids']"
   ]
  },
  {
   "cell_type": "code",
   "execution_count": 208,
   "id": "279695b4",
   "metadata": {},
   "outputs": [
    {
     "data": {
      "text/plain": [
       "104"
      ]
     },
     "execution_count": 208,
     "metadata": {},
     "output_type": "execute_result"
    }
   ],
   "source": [
    "mask_id"
   ]
  },
  {
   "cell_type": "code",
   "execution_count": 127,
   "id": "3fd1545f",
   "metadata": {},
   "outputs": [
    {
     "name": "stdout",
     "output_type": "stream",
     "text": [
      "### sia was replaced ###\n",
      "Accuracy when replacing \"sia\": 35.0%\n",
      "The average odds is: 2065.6235220069034\n",
      "\n",
      "The average odds when predicting correctly is: 5901.331832324423\n",
      "The average odds when predicting falsely is: 0.24212414362338394\n",
      "\n",
      "The average probability for sia was: 0.22937348860322762\n",
      "The average probability for è was: 0.2905929743952131\n",
      "\n",
      "The average probability for sia when predicting correctly is: 0.5176749309159331\n",
      "The average probability for è when predicting correctly is: 0.08616592725202987\n",
      "The average probability for sia when predicting falsely is: 0.07413425043484774\n",
      "The average probability for è when predicting falsely is: 0.40066907670308094\n",
      "\n",
      "\n",
      "### è was replaced ###\n",
      "Accuracy when replacing \"è\": 98.2%\n",
      "The average odds is: 3872.287146190136\n",
      "\n",
      "The average odds when predicting correctly is: 3943.2568439179477\n",
      "The average odds when predicting falsely is: 0.49585903949949794\n",
      "\n",
      "The average probability for è was: 0.6171230605177229\n",
      "The average probability for sia was: 0.017899697898452586\n",
      "\n",
      "The average probability for è when predicting correctly is: 0.6276059907899936\n",
      "The average probability for sia when predicting correctly is: 0.01712289849529844\n",
      "The average probability for è when predicting falsely is: 0.04522097566384926\n",
      "The average probability for sia when predicting falsely is: 0.06027842089275105\n",
      "\n",
      "\n",
      "[['Mi auguro che in tale strategia comunitaria per uno sviluppo sostenibile sia attribuito un ruolo importante allo sviluppo dei centri urbani.', 'Io credo che sia una storia totalmente diversa.', 'Quale credi sia meglio?', \"Non credo che sia necessario adeguare tutti i sistemi nazionali di protezione sociale a uno stesso stampo, non è mai stato questo il punto, ma semplicemente di assicurarsi che nell 'Europa di 30 o 27 paesi sussistano le migliori condizioni di funzionamento del mercato interno, senza che uno Stato possa bloccare gli altri 26 o 27.\", 'E mi abbandonerai presto, a meno che non sia sincero con te.'], ['Vuoi sapere con esattezza cos’è, chi lo ha creato e come aprirlo?', '-Sembra strano, ma non lo è.', 'Se l’allegria pasquale non traspare nei nostri atteggiamenti è perché abbiamo una fede superficiale o scarsa o, piú chiaramente, non l’abbiamo.', \"(1) Una corte che, su ricorso di un titolare dei dati, si convinca che i dati personali di cui il richiedente è titolare sono inesatti, può ordinare al controllore dei dati di rettificare, bloccare, cancellare o distruggere questi e tutti gli altri dati personali del cui trattamento sia responsabile, contenenti l'espressione di un parere che la corte ritenga basata sui dati inesatti.\", \"Andrò al tempio stasera che è, si dà il caso, nei sotterranei dell'Imperial, proprio come ti avevo detto.\"]]\n"
     ]
    }
   ],
   "source": [
    "experiment_1(corpus, 'sia', 'è', 500)"
   ]
  },
  {
   "cell_type": "code",
   "execution_count": 292,
   "id": "43e575cd",
   "metadata": {},
   "outputs": [
    {
     "name": "stdout",
     "output_type": "stream",
     "text": [
      "### sia was replaced ###\n",
      "Accuracy when replacing \"sia\": 87.4%\n",
      "The average odds is: 257532.7700648396\n",
      "\n",
      "The average odds when predicting correctly is: 294659.8732598451\n",
      "The average odds when predicting falsely is: 0.3240931340896871\n",
      "\n",
      "The average probability for sia was: 0.6681543536759255\n",
      "The average probability for è was: 0.08169309014758384\n",
      "\n",
      "The average probability for sia when predicting correctly is: 0.7480271711584325\n",
      "The average probability for è when predicting correctly is: 0.03693637678880792\n",
      "The average probability for sia when predicting falsely is: 0.11411592129726549\n",
      "The average probability for è when predicting falsely is: 0.3921483875727438\n",
      "\n",
      "\n",
      "### è was replaced ###\n",
      "Accuracy when replacing \"è\": 99.0%\n",
      "The average odds is: 10544887.627887057\n",
      "\n",
      "The average odds when predicting correctly is: 10651401.64209165\n",
      "The average odds when predicting falsely is: 0.22163216931490987\n",
      "\n",
      "The average probability for è was: 0.7399559748931497\n",
      "The average probability for sia was: 0.011190293404519717\n",
      "\n",
      "The average probability for è when predicting correctly is: 0.7467958789813859\n",
      "The average probability for sia when predicting correctly is: 0.0060700442979997864\n",
      "The average probability for è when predicting falsely is: 0.06280547015776392\n",
      "The average probability for sia when predicting falsely is: 0.5180949549499928\n",
      "\n",
      "\n",
      "[['- Comunque sia, questo italiano.', 'Dagli studi parzialmente svolti si può trarre una conclusione del tutto preliminare e assolutamente sorprendente, e cioè che il divieto di fumare a bordo degli aerei sia in parte responsabile della maggiore richiesta di bevande alcoliche.', 'Egli lo propone come modello ai reggini di oggi, invitati a liberarsi delle catene che tentano di impedire l annuncio del Vangelo con il coraggio di cui San Paolo diede prova, perché la Reggio cristiana del nuovo Millennio sia non solo sognata, ma ricostruita nella quotidianità della vita della gente .', '000 tonnellate a prelievo ridotto sia aumentato di 90.', 'L’articolo può anche essere utilizzato per iniziare un progetto che analizza la struttura del dente umano e come sia utilizzato per l’estrazione del DNA, così come le tecniche impiegate per confrontare frammenti moderni e antichi di DNA di Y.'], ['Se non mi sbaglio, è nel castello è talvolta tenuto varie celebrazioni di massa, allora è aperto più a lungo.', \"Immagino che l'unica cosa che possiamo fare è chiamare la polizia.\", 'Non significa che è vero.', 'Non so quanti giochi di gatti ci siano in giro per la rete e quindi non so neppure dire se è il più bello, va provarlo non costa nulla visto che è gratis.', 'Ma tu, falla felice più di quanto Io è oggi.']]\n"
     ]
    }
   ],
   "source": [
    "experiment_1(corpus, 'sia', 'è', 500)"
   ]
  },
  {
   "cell_type": "code",
   "execution_count": 293,
   "id": "8258d88b",
   "metadata": {},
   "outputs": [
    {
     "name": "stdout",
     "output_type": "stream",
     "text": [
      "### erano was replaced ###\n",
      "Accuracy when replacing \"erano\": 98.6%\n",
      "The average odds is: 773511.5381798766\n",
      "\n",
      "The average odds when predicting correctly is: 784494.4557406089\n",
      "The average odds when predicting falsely is: 0.344259742756987\n",
      "\n",
      "The average probability for erano was: 0.3944257938259613\n",
      "The average probability for fossero was: 0.005581064003156828\n",
      "\n",
      "The average probability for erano when predicting correctly is: 0.39947804181705787\n",
      "The average probability for fossero when predicting correctly is: 0.0030768670461051354\n",
      "The average probability for erano when predicting falsely is: 0.03860318531016154\n",
      "The average probability for fossero when predicting falsely is: 0.18194807826408319\n",
      "\n",
      "\n",
      "### fossero was replaced ###\n",
      "Accuracy when replacing \"fossero\": 87.6%\n",
      "The average odds is: 4237.2226271948675\n",
      "\n",
      "The average odds when predicting correctly is: 4836.96323074092\n",
      "The average odds when predicting falsely is: 0.34546020823191453\n",
      "\n",
      "The average probability for fossero was: 0.4605695652392378\n",
      "The average probability for erano was: 0.04898362218113482\n",
      "\n",
      "The average probability for fossero when predicting correctly is: 0.518614276832508\n",
      "The average probability for erano when predicting correctly is: 0.028770779500853425\n",
      "The average probability for fossero when predicting falsely is: 0.050511763983554524\n",
      "The average probability for erano when predicting falsely is: 0.19177757530957434\n",
      "\n",
      "\n",
      "[[\"Fin'ora sempre era così, che quaderni Notes erano di cartone, plastica, o di pelle semplice.\", 'Con una semplice descrizione, senza elementi che valorizzino l’innovazione rispetto alle precedenti esperienze, la ricorrente non sarebbe riuscita a convincere la commissione di valutazione e il competente ordinatore del valore aggiunto di tale progetto nel quadro di un esame comparativo dove tutti i candidati erano sullo stesso piede di parità.', \"Io propendo per la teoria secondo cui i responsabili erano i fabbricanti di armi per l'esercito.\", 'Il BBS, che sostiene che stessero protestando pacificamente ma che gli erano state scagliate contro delle pietre, ha accusato la polizia per le rivolte scoppiate ad Aluthgama e ha avvisato: “Non metteteci nella condizione di invitare le persone a boicottare gli esercizi musulmani.', 'E se questi tipi erano armati?'], [\"Anche il mio predecessore ha dato giustamente prova di flessibilità, concedendo dunque più tempo alle imprese interessate e ai servizi giuridici, consapevole del fatto che fossero già notevolmente sotto pressione con l'esame di questioni complicate.\", 'Come hai detto tu, Elena vediamo le persone che amiamo come vorremmo che fossero non come sono realmente.', \"e suo marito fossero presenti al matrimonio di Mary, si'.\", \"Ma sapevo che fossero li'.\", \"Quando mi hai riferito quello che ha detto mamma sul fatto che gli affari fossero il mio unico pallino, mi entrata quest'idea in testa.\"]]\n"
     ]
    }
   ],
   "source": [
    "experiment_1(corpus, 'erano', 'fossero', 500)"
   ]
  },
  {
   "cell_type": "code",
   "execution_count": 286,
   "id": "540d9847",
   "metadata": {},
   "outputs": [
    {
     "name": "stdout",
     "output_type": "stream",
     "text": [
      "### hanno was replaced ###\n",
      "Accuracy when replacing \"hanno\": 99.4%\n",
      "The average odds is: 4370.148054335331\n",
      "\n",
      "The average odds when predicting correctly is: 4396.525060785973\n",
      "The average odds when predicting falsely is: 0.3573190121690489\n",
      "\n",
      "The average probability for hanno was: 0.5989780302036254\n",
      "The average probability for abbiano was: 0.005269699375920844\n",
      "\n",
      "The average probability for hanno when predicting correctly is: 0.6020735677570072\n",
      "The average probability for abbiano when predicting correctly is: 0.004388296684202366\n",
      "The average probability for hanno when predicting falsely is: 0.0861506421933882\n",
      "The average probability for abbiano when predicting falsely is: 0.15128874530394873\n",
      "\n",
      "\n",
      "### abbiano was replaced ###\n",
      "Accuracy when replacing \"abbiano\": 75.2%\n",
      "The average odds is: 65.29118582974237\n",
      "\n",
      "The average odds when predicting correctly is: 86.74978852614159\n",
      "The average odds when predicting falsely is: 0.22316475033815114\n",
      "\n",
      "The average probability for abbiano was: 0.4315007672277218\n",
      "The average probability for hanno was: 0.15849131669567965\n",
      "\n",
      "The average probability for abbiano when predicting correctly is: 0.5517374187688124\n",
      "The average probability for hanno when predicting correctly is: 0.054159013005789076\n",
      "The average probability for abbiano when predicting falsely is: 0.066912210941834\n",
      "The average probability for hanno when predicting falsely is: 0.4748537859488962\n",
      "\n",
      "\n",
      "[[\"Se è, senza dubbio, vero che gli interessi commerciali degli Stati Uniti e dell'Unione europea possono divergere e, anzi, nel prossimo futuro saranno sempre più in conflitto, ciò che appare inaccettabile è che l'Unione si pieghi e rispetti le decisioni dell'OMC, anche quando queste hanno un chiaro sapore di parte, come nel caso delle banane, e che invece gli Stati Uniti le vìolino, non appena ciò rientri nel loro interesse.\", 'Capisco subito come mai ti hanno scelta come Marilyn.', \"- Credi che hanno gia' cominciato?\"], ['Non hai idea di cosa le abbiano fatto!', 'Che sono più severa con le persone che penso abbiano più potenziale.', \"Con voi due sole lassu', non riesco a capire come abbiano fatto queste riprese.\", 'Il servizio militare è obbligatorio per tutti i cittadini di sesso maschile che abbiano compiuto i 19 anni.', 'Sono certa che abbiano amato i nuovi capitoli.']]\n"
     ]
    }
   ],
   "source": [
    "experiment_1(corpus, 'hanno', 'abbiano', 500)"
   ]
  },
  {
   "cell_type": "code",
   "execution_count": 289,
   "id": "70eb8296",
   "metadata": {},
   "outputs": [
    {
     "name": "stdout",
     "output_type": "stream",
     "text": [
      "### fanno was replaced ###\n",
      "Accuracy when replacing \"fanno\": 98.0%\n",
      "The average odds is: 617.0538209817636\n",
      "\n",
      "The average odds when predicting correctly is: 629.6392379114361\n",
      "The average odds when predicting falsely is: 0.3683914278116088\n",
      "\n",
      "The average probability for fanno was: 0.35017949109349955\n",
      "The average probability for facciano was: 0.015046269362894264\n",
      "\n",
      "The average probability for fanno when predicting correctly is: 0.3570040375477767\n",
      "The average probability for facciano when predicting correctly is: 0.006170951299311751\n",
      "The average probability for fanno when predicting falsely is: 0.01577671483391896\n",
      "The average probability for facciano when predicting falsely is: 0.44993685447843745\n",
      "\n",
      "\n",
      "### facciano was replaced ###\n",
      "Accuracy when replacing \"facciano\": 79.0%\n",
      "The average odds is: 208.10915503976065\n",
      "\n",
      "The average odds when predicting correctly is: 263.34629128013944\n",
      "The average odds when predicting falsely is: 0.31230918309753697\n",
      "\n",
      "The average probability for facciano was: 0.44415217999602136\n",
      "The average probability for fanno was: 0.0838329576499342\n",
      "\n",
      "The average probability for facciano when predicting correctly is: 0.5433438884977295\n",
      "The average probability for fanno when predicting correctly is: 0.0460227762407526\n",
      "The average probability for facciano when predicting falsely is: 0.07100241944197619\n",
      "The average probability for fanno when predicting falsely is: 0.22607125914161738\n",
      "\n",
      "\n",
      "[[\"Pensi che le persone fanno quello che fanno solo perche' gli piace e non perche' devono?\", 'Basta che non frequenti alcun corso dove ti fanno leggere Beowulf.'], ['Sono certo che la maggior parte degli autisti di matrimoni facciano queste cose.', 'I governi che garantiscono le passività bancarie, invece, devono richiedere che i banchieri esercitino una maggiore prudenza rispetto a quanto già non facciano.', '1973), con\\xadtempla la possibilità, per i settori che ne facciano richiesta, di ordinare con regio decreto una chiusura settimanale di 24 ore.', 'Hai la minima idea di cosa facciano?', 'ti facciano sentire vulnerabile.']]\n"
     ]
    }
   ],
   "source": [
    "experiment_1(corpus, 'fanno', 'facciano', 100)"
   ]
  },
  {
   "cell_type": "code",
   "execution_count": 291,
   "id": "b98f0dd8",
   "metadata": {},
   "outputs": [
    {
     "name": "stdout",
     "output_type": "stream",
     "text": [
      "### possono was replaced ###\n",
      "Accuracy when replacing \"possono\": 99.6%\n",
      "The average odds is: 13202.235687668732\n",
      "\n",
      "The average odds when predicting correctly is: 13255.256354784531\n",
      "The average odds when predicting falsely is: 0.08957583449661806\n",
      "\n",
      "The average probability for possono was: 0.613292759815241\n",
      "The average probability for possano was: 0.010844743241146208\n",
      "\n",
      "The average probability for possono when predicting correctly is: 0.6154589915019841\n",
      "The average probability for possano when predicting correctly is: 0.007588126083768636\n",
      "The average probability for possono when predicting falsely is: 0.07390106981620193\n",
      "The average probability for possano when predicting falsely is: 0.8217424154281616\n",
      "\n",
      "\n",
      "### possano was replaced ###\n",
      "Accuracy when replacing \"possano\": 80.0%\n",
      "The average odds is: 146.05458513831636\n",
      "\n",
      "The average odds when predicting correctly is: 182.50351341547554\n",
      "The average odds when predicting falsely is: 0.2588720296794394\n",
      "\n",
      "The average probability for possano was: 0.5645277921106395\n",
      "The average probability for possono was: 0.12714898656198567\n",
      "\n",
      "The average probability for possano when predicting correctly is: 0.6840420881024329\n",
      "The average probability for possono when predicting correctly is: 0.05650969073652959\n",
      "The average probability for possano when predicting falsely is: 0.08647060814346595\n",
      "The average probability for possono when predicting falsely is: 0.40970616986381003\n",
      "\n",
      "\n",
      "[[\"E' vitale creare effetti di moltiplicazione che, attraverso forme moderne di gestione aziendale, possono favorire processi che possono creare valore attraverso l'innovazione e l'efficienza integrate.\", \"L' aumento dell' efficacia a dosi maggiori di una dose giornaliera di 15 mg non è stato dimostrato, sebbene alcuni pazienti possono trarre beneficio da una dose maggiore.\"], ['Infezioni complicate delle vie urinarie e pielonefrite Il trattamento delle infezioni delle vie urinarie con ciprofloxacina deve essere preso in considerazione quando non possano essere usati altri trattamenti e deve essere basato sui risultati degli esami microbiologici.', 'Posso capire come possano alcune persone diventare alcolizzate.', 'Forse bisognerebbe verificare se non si possano applicare ovunque gli stessi principi di diritto, come il principio di opportunità invece del principio di legalità.', 'I vincoli esistenti in relazione ai sistemi di raccolta delle SFP e alle risorse implicano che possano dover essere concesse deroghe al presente indirizzo.', \"Integratori di potassio e diuretici risparmiatori di potassio: in base all’ esperienza sull’ uso di altri medicinali attivi sul sistema renina-angiotensina, l' uso contemporaneo di diuretici risparmiatori di potassio, integratori di potassio, sostituti del sale da cucina contenenti potassio o altri medicinali che possano aumentare la potassiemia (es.\"]]\n"
     ]
    }
   ],
   "source": [
    "experiment_1(corpus, 'possono', 'possano', 500)"
   ]
  },
  {
   "cell_type": "code",
   "execution_count": 227,
   "id": "f76d1f71",
   "metadata": {},
   "outputs": [
    {
     "name": "stdout",
     "output_type": "stream",
     "text": [
      "### sono was replaced ###\n",
      "Accuracy when replacing \"sono\": 99.6%\n",
      "The average odds is: 96810.41422923023\n",
      "\n",
      "The average odds when predicting correctly is: 97199.20977429043\n",
      "The average odds when predicting falsely is: 0.3235092434494197\n",
      "\n",
      "The average probability for sono was: 0.64510771794626\n",
      "The average probability for siano was: 0.007705065710451294\n",
      "\n",
      "The average probability for sono when predicting correctly is: 0.6471200879275129\n",
      "The average probability for siano when predicting correctly is: 0.005012412849106631\n",
      "The average probability for sono when predicting falsely is: 0.1440275926142931\n",
      "The average probability for siano when predicting falsely is: 0.6781756281852722\n",
      "\n",
      "\n",
      "### siano was replaced ###\n",
      "Accuracy when replacing \"siano\": 83.6%\n",
      "The average odds is: 441.90250495182244\n",
      "\n",
      "The average odds when predicting correctly is: 528.5432996574172\n",
      "The average odds when predicting falsely is: 0.24577096476684834\n",
      "\n",
      "The average probability for siano was: 0.6545038382494749\n",
      "The average probability for sono was: 0.14988002932804556\n",
      "\n",
      "The average probability for siano when predicting correctly is: 0.7576674965553378\n",
      "The average probability for sono when predicting correctly is: 0.060619033284174687\n",
      "The average probability for siano when predicting falsely is: 0.12862079956836922\n",
      "The average probability for sono when predicting falsely is: 0.6048933994053386\n",
      "\n",
      "\n",
      "[[\"Non sarà quindi con belle parole e timide iniziative che si riuscirà a creare uno spazio di libertà, sicurezza e giustizia del quale la lotta contro il razzismo e la xenofobia sono elementi imprescindibili, conformemente all'articolo 29.\", \"Credo che la maggioranza degli ufficiali dell'esercito non sono bolscevichi, ma, come me, democratici; pensano che devono seguire la massa dei soldati.\"], [\"i depositi bancari di cui all'articolo 7, paragrafo 2, lettera b) siano trasferiti sul proprio conto.\", 'A seconda di quanti ce ne siano già sulla Terra, la razza umana potrebbe aver visto il suo ultimo giorno.', 'che mentre siete al Purgatorio le fiamme siano spente.', 'L’unico problema è se entrambe le parti siano effettivamente disposte a mettere in pratica tale programma.', 'Gli obiettivi e la condotta rivoluzionaria non possono essere dedotti economicisticamente da una certa collocazione nel processo produttivo (il che non significa che le condizioni economiche e sociali nei rapporti di classe non siano criteri di analisi).']]\n"
     ]
    }
   ],
   "source": [
    "experiment_1(corpus, 'sono', 'siano', 500)"
   ]
  },
  {
   "cell_type": "code",
   "execution_count": 228,
   "id": "4d007f70",
   "metadata": {},
   "outputs": [
    {
     "name": "stdout",
     "output_type": "stream",
     "text": [
      "### fossero was replaced ###\n",
      "Accuracy when replacing \"fossero\": 88.2%\n",
      "The average odds is: 4672.6926290573665\n",
      "\n",
      "The average odds when predicting correctly is: 5297.7949670752505\n",
      "The average odds when predicting falsely is: 0.31752624571361254\n",
      "\n",
      "The average probability for fossero was: 0.4588860958504854\n",
      "The average probability for erano was: 0.04789822937489373\n",
      "\n",
      "The average probability for fossero when predicting correctly is: 0.5145278735758758\n",
      "The average probability for erano when predicting correctly is: 0.028574973624000327\n",
      "The average probability for fossero when predicting falsely is: 0.04298738437765175\n",
      "The average probability for erano when predicting falsely is: 0.19233137829258848\n",
      "\n",
      "\n",
      "### erano was replaced ###\n",
      "Accuracy when replacing \"erano\": 98.8%\n",
      "The average odds is: 801271.4901295332\n",
      "\n",
      "The average odds when predicting correctly is: 811003.5283387073\n",
      "The average odds when predicting falsely is: 0.3442408644507678\n",
      "\n",
      "The average probability for erano was: 0.40745257815647773\n",
      "The average probability for fossero was: 0.006831628895241564\n",
      "\n",
      "The average probability for erano when predicting correctly is: 0.41161004695122416\n",
      "The average probability for fossero when predicting correctly is: 0.0035935194578626765\n",
      "The average probability for erano when predicting falsely is: 0.06515431405568961\n",
      "The average probability for fossero when predicting falsely is: 0.27343597257276997\n",
      "\n",
      "\n",
      "[[\"quelle particolari abilita' di sopravvivenza fossero piu' idonee alla vita che adesso.\", 'di cosa fossero capaci.', \"Ma nei giorni scorsi è stato manipolato - usando un'interpretazione illegale della legge - dal cliente messicano, Vicente Fox, di Allyn e Morris, per espellere cinque giornalisti stranieri dal paese, anche se i giornalisti non fossero coinvolti in alcun modo nella campagna elettorale di questo anno.\", \"fossero piu' forti della mia ragione.\", 'Lo ho portati a secco e li ho sepolti, insieme ad otto altri, che fossero stati lanciati sulle roccie uno per uno.'], ['E se questi tipi erano armati?', \"Fin'ora sempre era così, che quaderni Notes erano di cartone, plastica, o di pelle semplice.\", 'Da una parte, i clienti non potrebbero essere linea-genned se il JS-14 fosse fatto funzionare in un periodo dopo che i clienti erano stati inseriti.', 'La Commissione ha valutato se il diritto di riscuotere le tasse ed utilizzarne i proventi poteva essere considerato una compensazione per servizi d’interesse economico generale e se erano soddisfatti i criteri cumulativi definiti nella sentenza Altmark.', \"Comett erano stato i primi ad essere aperti alla partecipazione dei paesi dell'Associazione eu\\xadropea di libero scambio (la partecipazione del\\xadl'Islanda, del Liechtenstein e della Norvegia continua nel quadro dello Spazio economico europeo), si prevede di aprire tra breve anche i programmi Socrates, Leonardo da Vinci e Gioventù per l'Europa alla partecipazione dei paesi associati dell'Europa centrale e orientale (Bulgaria, Estonia, Ungheria, Lettonia, Litua\\xadnia, Polonia, Repubblica ceca, Romania, Slo\\xadvacchia, Slovenia) e di Cipro.\"]]\n"
     ]
    }
   ],
   "source": [
    "experiment_1(corpus, 'fossero', 'erano', 500)"
   ]
  },
  {
   "cell_type": "code",
   "execution_count": 82,
   "id": "cca6c763",
   "metadata": {},
   "outputs": [
    {
     "name": "stdout",
     "output_type": "stream",
     "text": [
      "### sono was replaced ###\n",
      "Accuracy when replacing \"sono\": 99.8%\n",
      "The average odds is: 902.499674573009\n",
      "\n",
      "The average odds when predicting correctly is: 904.306779757173\n",
      "The average odds when predicting falsely is: 0.7541876751871859\n",
      "\n",
      "The average probability for sono was: 0.4724690455650628\n",
      "The average probability for siano was: 0.008801220344894339\n",
      "\n",
      "The average probability for sono when predicting correctly is: 0.4728989485126519\n",
      "The average probability for siano when predicting correctly is: 0.008133446691860825\n",
      "The average probability for sono when predicting falsely is: 0.25794747471809387\n",
      "The average probability for siano when predicting falsely is: 0.34202027320861816\n",
      "\n",
      "\n",
      "### siano was replaced ###\n",
      "Accuracy when replacing \"siano\": 27.2%\n",
      "The average odds is: 6.943140354481208\n",
      "\n",
      "The average odds when predicting correctly is: 24.96537005337328\n",
      "The average odds when predicting falsely is: 0.20956002742263588\n",
      "\n",
      "The average probability for siano was: 0.21949496043055083\n",
      "The average probability for sono was: 0.37695703602986924\n",
      "\n",
      "The average probability for siano when predicting correctly is: 0.5748870224975382\n",
      "The average probability for sono when predicting correctly is: 0.14699915285545812\n",
      "The average probability for siano when predicting falsely is: 0.08671111306486325\n",
      "The average probability for sono when predicting falsely is: 0.4628753660071218\n",
      "\n",
      "\n",
      "[['In altre parole, non appena vi sono ragionevoli motivi di ritenere che gli stock del merluzzo bianco e del nasello necessitano di protezione, si dovrebbe intervenire, proprio come ha fatto la Commissione.'], ['Ciò significa che cercheremo di lavorare in modo coerente, insieme con il Presidente, il Consiglio, il segretariato del Consiglio e il signor Solana, per stabilire quali siano gli strumenti migliori da usare per garantire quanto prima la coerenza, la rapidità e l’efficacia della politica estera.', \"E 'senz' altro positivo che le risorse per progetti regolari siano distinte da quelle per le misure urgenti di cui all' articolo 5.\", 'Il CHMP era del parere che nell’ UE il consenso informato in forma scritta sia legato a prodotti di cui siano riconosciuti i gravi rischi e che l’ introduzione dell’ obbligo di consenso informato per Implanon, uno dei vari metodi contraccettivi di largo uso, non sia giustificata e che costituirebbe un’ indicazione forte di un rischio che certamente non esiste.', 'Le cruciali clausole comuni di difesa sono state discusse “durante la cena”, ma a parte la salutare inversione di marcia del Primo Ministro Blair sulla cooperazione strutturata, sembra si siano raggiunti scarsi risultati, salvo provocare un’indigestione agli americani.', 'La cornice superiore della griglia è un esempio di come tutti i dettagli siano stati accuratamente studiati: ha una doppia inclinazione, così che nella parte alta risulta di fatto il proseguimento della superficie del cofano, quest’ultimo ampio e ben modellato, strutturato semplicemente da due nervature divergenti che partono dal punto di incontro tra i fari e la calandra.']]\n"
     ]
    }
   ],
   "source": [
    "experiment_1(corpus, 'sono', 'siano', 500)"
   ]
  },
  {
   "cell_type": "code",
   "execution_count": 83,
   "id": "c9b49636",
   "metadata": {},
   "outputs": [
    {
     "name": "stdout",
     "output_type": "stream",
     "text": [
      "### erano was replaced ###\n",
      "Accuracy when replacing \"erano\": 96.8%\n",
      "The average odds is: 4789.918643201053\n",
      "\n",
      "The average odds when predicting correctly is: 4948.241735659056\n",
      "The average odds when predicting falsely is: 0.6450963464581804\n",
      "\n",
      "The average probability for erano was: 0.21596862357176289\n",
      "The average probability for fossero was: 0.006847677124260147\n",
      "\n",
      "The average probability for erano when predicting correctly is: 0.22195900099920945\n",
      "The average probability for fossero when predicting correctly is: 0.00524275290184653\n",
      "The average probability for erano when predicting falsely is: 0.03475970639150461\n",
      "The average probability for fossero when predicting falsely is: 0.055396634852272086\n",
      "\n",
      "\n",
      "### fossero was replaced ###\n",
      "Accuracy when replacing \"fossero\": 52.4%\n",
      "The average odds is: 9.671214116278168\n",
      "\n",
      "The average odds when predicting correctly is: 18.152567811046676\n",
      "The average odds when predicting falsely is: 0.33459786405400954\n",
      "\n",
      "The average probability for fossero was: 0.07874987738008259\n",
      "The average probability for erano was: 0.05472067933895747\n",
      "\n",
      "The average probability for fossero when predicting correctly is: 0.12896836198159592\n",
      "The average probability for erano when predicting correctly is: 0.02460254231907945\n",
      "The average probability for fossero when predicting falsely is: 0.02346734391118976\n",
      "The average probability for erano when predicting falsely is: 0.08787593941966353\n",
      "\n",
      "\n",
      "[['E quali erano questi epiteti?', 'In una recente decisione riguardante i vantaggi fiscali concessi dalle autorità della regione delle Azzorre, la Commissione è giunta alla conclusione che le misure considerate erano selettive sebbene si applicassero a tutte le imprese attive in quella regione [30].', 'E poi, non erano circostanze normali queste.', 'Egli è quindi in grado di dirci quali erano le vere intenzioni degli architetti del Vaticano II, cosa da non confondersi con le intenzioni dei Padri Conciliari in generale.', 'Esso ha anche argomentato che, mentre alcuni degli investimenti erano potenzialmente in grado di ridurre il tempo di assemblaggio, tale effetto sarebbe controbilanciato da un’importante modifica del metodo di produzione, ossia nell’allestimento anticipato.'], ['Non sapevi neanche cosa fossero fino a due secondi fa.', 'Immagino tu abbia pensato che tutti i vecchi residenti fossero scomparsi.', 'Che le cose si fossero interrotte, che ne so, anche solo per una notte.', 'Pensavo fossero uffici.', \"Non importa cosa fossero i suoi trofei, l'avevamo preso.\"]]\n"
     ]
    }
   ],
   "source": [
    "experiment_1(corpus, 'erano', 'fossero', 500)"
   ]
  },
  {
   "cell_type": "code",
   "execution_count": 198,
   "id": "31b9e94e",
   "metadata": {},
   "outputs": [
    {
     "name": "stdout",
     "output_type": "stream",
     "text": [
      "Non 0.5619245767593384\n",
      "non 0.2179812639951706\n",
      "è 0.017772043123841286\n",
      "no 0.009306162595748901\n",
      "No 0.008768565952777863\n"
     ]
    }
   ],
   "source": [
    "for item in list(topk_indices):\n",
    "    print(tokenizer.convert_ids_to_tokens(item.item()), logits[item.item()].item())"
   ]
  },
  {
   "cell_type": "code",
   "execution_count": 109,
   "id": "271acabd",
   "metadata": {},
   "outputs": [],
   "source": [
    "import random\n",
    "\n",
    "def replace_compare_2(corpus, n, word_1, word_2, x):\n",
    "\n",
    "    corp_1 = find_instances(corpus, word_1)\n",
    "    corp_1 = random.sample(corp_1, n)\n",
    "    corp_1_n_correct = 0\n",
    "    \n",
    "    samples = []\n",
    "\n",
    "    for sentence in corp_1:\n",
    "        correct_prob = test_sentence(sentence, word_1, word_1)\n",
    "        false_prob = test_sentence(sentence, word_1, word_2)\n",
    "        if correct_prob == None:\n",
    "            print(sentence)\n",
    "            continue\n",
    "        if false_prob == None:\n",
    "            print(sentence)\n",
    "            continue\n",
    "\n",
    "\n",
    "        if x * correct_prob >= false_prob:\n",
    "            corp_1_n_correct += 1\n",
    "            \n",
    "    corp_1_n_false = len(corp_1)-corp_1_n_correct\n",
    "    if corp_1_n_false == 0:\n",
    "        corp_1_n_false = 0.0000001\n",
    "     \n",
    "    print(f'Accuracy when replacing \"{word_1}\": {100*corp_1_n_correct/len(corp_1)}%')\n",
    "    \n",
    "    if len(samples) > 5:\n",
    "        return samples[:5]\n",
    "    return samples\n",
    "    \n",
    "    \n",
    "\n",
    "def experiment_2(corpus, word_1, word_2, n, x):\n",
    "    samples = []\n",
    "    samples.append(replace_compare_2(corpus, n, word_1, word_2, 1/x))\n",
    "    samples.append(replace_compare_2(corpus, n, word_2, word_1, x))\n",
    "    print(samples)"
   ]
  },
  {
   "cell_type": "code",
   "execution_count": 88,
   "id": "ffd46932",
   "metadata": {},
   "outputs": [
    {
     "name": "stdout",
     "output_type": "stream",
     "text": [
      "### sono was replaced ###\n",
      "Accuracy when replacing \"sono\": 100.0%\n",
      "The average odds is: 1157.1675375276545\n",
      "\n",
      "The average odds when predicting correctly is: 1157.1675375276545\n",
      "The average odds when predicting falsely is: 0.0\n",
      "\n",
      "The average probability for sono was: 0.4579587295591773\n",
      "The average probability for siano was: 0.00396752415610365\n",
      "\n",
      "The average probability for sono when predicting correctly is: 0.4579587295591773\n",
      "The average probability for siano when predicting correctly is: 0.00396752415610365\n",
      "The average probability for sono when predicting falsely is: 0.0\n",
      "The average probability for siano when predicting falsely is: 0.0\n",
      "\n",
      "\n",
      "### siano was replaced ###\n",
      "Accuracy when replacing \"siano\": 95.0%\n",
      "The average odds is: 2.3453953988131233\n",
      "\n",
      "The average odds when predicting correctly is: 2.4685262204107725\n",
      "The average odds when predicting falsely is: 0.005909788457789384\n",
      "\n",
      "The average probability for siano was: 0.188029572701865\n",
      "The average probability for sono was: 0.4312951381831078\n",
      "\n",
      "The average probability for siano when predicting correctly is: 0.19765440337491383\n",
      "The average probability for sono when predicting correctly is: 0.40939749184707885\n",
      "The average probability for siano when predicting falsely is: 0.0051577899139374495\n",
      "The average probability for sono when predicting falsely is: 0.8473504185676575\n",
      "\n",
      "\n",
      "[[], ['Quanti di voi pensano che ci siano più maschi nel mondo?', \"Ha anche detto che i cospiratori per il mio assassinio siano dell'opposizione.\", \"Tu accetti che dieci anni siano un bel po' e che gli iPod non sono solo una moda e che magari e' ora che qualcun altro si prenda piu' responsabilita'?\", \"Mi rammarico che alcuni onorevoli deputati oggi siano diventati strumento dell'opposizione socialista nel corso della campagna elettorale.\", \"Concordo sul fatto che la protezione e la considerazione dell' ambiente siano una necessità, se non addirittura un obbligo, ma gli Stati membri, nell' ambito della sussidiarietà, sono in grado di operare meglio!\"]]\n"
     ]
    }
   ],
   "source": [
    "experiment_2(corpus, 'sono', 'siano', 10, 10)"
   ]
  },
  {
   "cell_type": "code",
   "execution_count": 89,
   "id": "c761f0be",
   "metadata": {},
   "outputs": [
    {
     "name": "stdout",
     "output_type": "stream",
     "text": [
      "### erano was replaced ###\n",
      "Accuracy when replacing \"erano\": 100.0%\n",
      "The average odds is: 3657.332465502502\n",
      "\n",
      "The average odds when predicting correctly is: 3657.332465502502\n",
      "The average odds when predicting falsely is: 0.0\n",
      "\n",
      "The average probability for erano was: 0.1887540190281468\n",
      "The average probability for fossero was: 0.007481184508735399\n",
      "\n",
      "The average probability for erano when predicting correctly is: 0.1887540190281468\n",
      "The average probability for fossero when predicting correctly is: 0.007481184508735399\n",
      "The average probability for erano when predicting falsely is: 0.0\n",
      "The average probability for fossero when predicting falsely is: 0.0\n",
      "\n",
      "\n",
      "### fossero was replaced ###\n",
      "Accuracy when replacing \"fossero\": 99.0%\n",
      "The average odds is: 6.815849145987573\n",
      "\n",
      "The average odds when predicting correctly is: 6.884647669100133\n",
      "The average odds when predicting falsely is: 0.00479535784401859\n",
      "\n",
      "The average probability for fossero was: 0.08284206437712918\n",
      "The average probability for erano was: 0.05442053059211335\n",
      "\n",
      "The average probability for fossero when predicting correctly is: 0.08367885290602828\n",
      "The average probability for erano when predicting correctly is: 0.05497023288737022\n",
      "The average probability for fossero when predicting falsely is: 1.612047474675027e-11\n",
      "The average probability for erano when predicting falsely is: 3.3616833761129783e-09\n",
      "\n",
      "\n",
      "[[], ['Ad ogni modo, nessuno dei produttori esportatori in questione è stato in grado di indicare se e in che misura gli oneri all’importazione e le imposte indirette fossero sostenuti per il prodotto simile venduto sul mercato interno.']]\n"
     ]
    }
   ],
   "source": [
    "experiment_2(corpus, 'erano', 'fossero', 100)"
   ]
  },
  {
   "cell_type": "code",
   "execution_count": 93,
   "id": "5b91cc99",
   "metadata": {},
   "outputs": [
    {
     "name": "stdout",
     "output_type": "stream",
     "text": [
      "### sono was replaced ###\n",
      "Accuracy when replacing \"sono\": 100.0%\n",
      "The average odds is: 444.5960143193952\n",
      "\n",
      "The average odds when predicting correctly is: 444.5960143193952\n",
      "The average odds when predicting falsely is: 0.0\n",
      "\n",
      "The average probability for sono was: 0.44315625164308586\n",
      "The average probability for siano was: 0.005199900197476381\n",
      "\n",
      "The average probability for sono when predicting correctly is: 0.44315625164308586\n",
      "The average probability for siano when predicting correctly is: 0.005199900197476381\n",
      "The average probability for sono when predicting falsely is: 0.0\n",
      "The average probability for siano when predicting falsely is: 0.0\n",
      "\n",
      "\n",
      "### siano was replaced ###\n",
      "Accuracy when replacing \"siano\": 100.0%\n",
      "The average odds is: 11.861151553190883\n",
      "\n",
      "The average odds when predicting correctly is: 11.861151553190883\n",
      "The average odds when predicting falsely is: 0.0\n",
      "\n",
      "The average probability for siano was: 0.1770077091103303\n",
      "The average probability for sono was: 0.31462434413842855\n",
      "\n",
      "The average probability for siano when predicting correctly is: 0.1770077091103303\n",
      "The average probability for sono when predicting correctly is: 0.31462434413842855\n",
      "The average probability for siano when predicting falsely is: 0.0\n",
      "The average probability for sono when predicting falsely is: 0.0\n",
      "\n",
      "\n",
      "[[], []]\n"
     ]
    }
   ],
   "source": [
    "experiment_2(corpus, 'sono', 'siano', 10, 500)"
   ]
  },
  {
   "cell_type": "code",
   "execution_count": 99,
   "id": "82793553",
   "metadata": {},
   "outputs": [
    {
     "name": "stdout",
     "output_type": "stream",
     "text": [
      "### sono was replaced ###\n",
      "Accuracy when replacing \"sono\": 100.0%\n",
      "The average odds is: 1070.6849533909729\n",
      "\n",
      "The average odds when predicting correctly is: 1070.6849533909729\n",
      "The average odds when predicting falsely is: 0.0\n",
      "\n",
      "The average probability for sono was: 0.5017051460250513\n",
      "The average probability for siano was: 0.019917086907566953\n",
      "\n",
      "The average probability for sono when predicting correctly is: 0.5017051460250513\n",
      "The average probability for siano when predicting correctly is: 0.019917086907566953\n",
      "The average probability for sono when predicting falsely is: 0.0\n",
      "The average probability for siano when predicting falsely is: 0.0\n",
      "\n",
      "\n",
      "### siano was replaced ###\n",
      "Accuracy when replacing \"siano\": 74.0%\n",
      "The average odds is: 8.467180789604717\n",
      "\n",
      "The average odds when predicting correctly is: 11.426849577503251\n",
      "The average odds when predicting falsely is: 0.04350808558580299\n",
      "\n",
      "The average probability for siano was: 0.27010721675604654\n",
      "The average probability for sono was: 0.3316563809957975\n",
      "\n",
      "The average probability for siano when predicting correctly is: 0.35688222057037206\n",
      "The average probability for sono when predicting correctly is: 0.29703274914945743\n",
      "The average probability for siano when predicting falsely is: 0.023132205899889555\n",
      "The average probability for sono when predicting falsely is: 0.4302005639430728\n",
      "\n",
      "\n",
      "[[], [\"Le disposizioni analoghe a quelle che sono previste all'articolo 36, paragrafo 3, all'articolo 63, paragrafo 3 e all'articolo 70, paragrafo 3 del regolamento, nonché all'articolo 93, paragrafo 6, all'articolo 94, paragrafo 6 e all'articolo 95, paragrafo 6 del regolamento di applicazione e che sono in vigore il giorno precedente a quello dell'entrata in vigore del regolamento, rimangono applicabili sempreché siano indicate nell'allegato 5 del regolamento di applicazione.\", \"Nel caso in cui, il 1o aprile di ogni anno a partire dal 2006, le emissioni verificate annue di un impianto relative all'anno precedente non siano state iscritte nel registro, l'amministratore del registro blocca il trasferimento di tutte le quote e le unità di Kyoto a partire dal conto di deposito del gestore relativo all'impianto considerato.\", 'Credo che ci siano tre argomentazioni a favore del ritiro.', 'Se gli utenti condividono con noi delle informazioni, possiamo realizzare servizi e prodotti che siano utili per loro.', 'Penso ci siano abbastanza informazioni per prendere una decisione.']]\n"
     ]
    }
   ],
   "source": [
    "experiment_2(corpus, 'sono', 'siano', 50, 10)"
   ]
  },
  {
   "cell_type": "code",
   "execution_count": 100,
   "id": "c54fc71c",
   "metadata": {},
   "outputs": [
    {
     "name": "stdout",
     "output_type": "stream",
     "text": [
      "### sono was replaced ###\n",
      "Accuracy when replacing \"sono\": 92.0%\n",
      "The average odds is: 323.50092208056054\n",
      "\n",
      "The average odds when predicting correctly is: 351.41105461265704\n",
      "The average odds when predicting falsely is: 2.534397961450886\n",
      "\n",
      "The average probability for sono was: 0.31675642627999523\n",
      "The average probability for siano was: 0.014397617363618167\n",
      "\n",
      "The average probability for sono when predicting correctly is: 0.33506020045024343\n",
      "The average probability for siano when predicting correctly is: 0.003277118584366156\n",
      "The average probability for sono when predicting falsely is: 0.10626302332214088\n",
      "The average probability for siano when predicting falsely is: 0.1422833533250163\n",
      "\n",
      "\n",
      "### siano was replaced ###\n",
      "Accuracy when replacing \"siano\": 10.0%\n",
      "The average odds is: 5.8085528994795705\n",
      "\n",
      "The average odds when predicting correctly is: 50.31306123330175\n",
      "The average odds when predicting falsely is: 0.8636075290548848\n",
      "\n",
      "The average probability for siano was: 0.21563974740267855\n",
      "The average probability for sono was: 0.39190904912036467\n",
      "\n",
      "The average probability for siano when predicting correctly is: 0.839901351928711\n",
      "The average probability for sono when predicting correctly is: 0.039738619700074196\n",
      "The average probability for siano when predicting falsely is: 0.14627734689978608\n",
      "The average probability for sono when predicting falsely is: 0.43103909683373026\n",
      "\n",
      "\n",
      "[[\"L'applicazione di tali parametri derivanti dal regolamento di base che disciplina l'organizzazione comune di mercato del tabacco, nonché dagli atti d'adesione, fa sì che i prezzi e i premi stabiliti per il Burley greco sono diversi da quelli fissati per il Burley prodotto nelle altre zone della Comunità, come pure che i prezzi e i premi di talune varietà orientali sono più alti in Grecia che altrove.\", 'La rapidità con cui hanno lavorato i relatori, la celerità con cui la commissione per le libertà ha esaminato le relazioni, nonché la vostra disponibilità a discuterne oggi sono esemplari.', 'La gente dice sempre che sono un mix tra Jeon Ji Hyeon e Kim Tae Hee.', 'Perry, sono Lane.'], ['Gli obiettivi che vogliamo perseguire sono quelli di accrescere la qualità dei servizi, fornire maggiori informazioni ai cittadini quando esprimono i loro pareri – positivi o negativi che siano – su tali servizi, realizzare economie di scala e utilizzare insieme i servizi comuni.', 'Il fatto che siano o meno vincolanti è spesso una questione complessa che richiede una valutazione oggettiva.', 'La Eesti Pank conferisce istruzioni affinché tali trasferimenti alla BCE siano effettuati.', 'Sotto vari punti di vista il quadro dei tre nuovi Stati membri è risultato più positivo rispetto alla media europea, nonostante siano stati evidenziati anche alcuni aspetti particolarmente negativi.', 'Tuttavia, obiettiamo alla soppressione della distinzione tra acque costiere e acque interne, in quanto in tale modo talune aree di balneazione in Portogallo, come le spiagge fluviali, sarebbero riclassificate come non pulite, nonostante il fatto che siano atte all’ uso e non abbiano causato problemi sanitari.']]\n"
     ]
    }
   ],
   "source": [
    "experiment_2(corpus, 'sono', 'siano', 50, 0.1)"
   ]
  },
  {
   "cell_type": "code",
   "execution_count": 106,
   "id": "1b8f38b5",
   "metadata": {},
   "outputs": [
    {
     "name": "stdout",
     "output_type": "stream",
     "text": [
      "### sono was replaced ###\n",
      "Accuracy when replacing \"sono\": 90.0%\n",
      "The average odds is: 900.9235939409925\n",
      "\n",
      "The average odds when predicting correctly is: 999.9841444973056\n",
      "The average odds when predicting falsely is: 9.378638934175594\n",
      "\n",
      "The average probability for sono was: 0.37969800011720506\n",
      "The average probability for siano was: 0.007068398124346799\n",
      "\n",
      "The average probability for sono when predicting correctly is: 0.3900635900338077\n",
      "The average probability for siano when predicting correctly is: 0.00382853117750162\n",
      "The average probability for sono when predicting falsely is: 0.2864076908677816\n",
      "The average probability for siano when predicting falsely is: 0.03622720064595342\n",
      "\n",
      "\n",
      "### siano was replaced ###\n",
      "Accuracy when replacing \"siano\": 12.0%\n",
      "The average odds is: 12.069433474466841\n",
      "\n",
      "The average odds when predicting correctly is: 89.09440286585601\n",
      "The average odds when predicting falsely is: 1.5660285574592274\n",
      "\n",
      "The average probability for siano was: 0.27474085523618635\n",
      "The average probability for sono was: 0.37857382010337615\n",
      "\n",
      "The average probability for siano when predicting correctly is: 0.9023941357930502\n",
      "The average probability for sono when predicting correctly is: 0.018186937319114804\n",
      "The average probability for siano when predicting falsely is: 0.18915177152388674\n",
      "The average probability for sono when predicting falsely is: 0.4277174859375936\n",
      "\n",
      "\n",
      "[[\"Recenti controlli disposti dalle autorità elleniche e altri dati oggi disponibili mostrano che il 10,5% delle imprese non sono registrate presso l' Istituto di previdenza sociale e che la percentuale dei lavoratori non affiliati oscilla tra il 21 e il 30% con la conseguente perdita di diversi miliardi di euro per le finanze pubbliche e soprattutto per gli enti previdenziali.\", 'Solo che non sono sicura sia una cosa che voglia ancora festeggiare.', 'I suoi genitori non devono sapere che sono stata parte di questo inganno.', \"Contrariamente a quanto si pensa comunemente, sono di più gli europei che stanno emigrando dall'Europa verso l'America Latina e i Caraibi che quelli in direzione opposta.\", \"Attualmente dall'analisi compiuta risulta che le due maggiori difficoltà ostacolanti la convocazione di una conferenza di pace sono connesse, in primo luogo, al ruolo assegnato alla conferenza stessa, ed in secondo luogo alla composizione della delegazione palestinese chiamata a farne parte.\"], ['Non possiamo avere una politica comune della pesca che impone restrizioni a livello comunitario e poi lascia che siano i singoli Stati membri a scegliere quali problemi affrontare in base ai fondi che hanno a disposizione.', \"No, in realta' lui pensa che i nomi siano ancore che affondano l'anima.\", 'In particolare nella realizzazione di progetti comuni, è necessario, tra l’altro mediante l’applicazione di una contabilità dettagliata e trasparente, garantire che gli utenti dello spazio aereo non siano gravati da duplici costi.', 'Meglio che le fonti di Niska siano buone.', 'Ritengo che le parole del Commissario siano certo incoraggianti.']]\n"
     ]
    }
   ],
   "source": [
    "experiment_2(corpus, 'sono', 'siano', 50, 1/15)"
   ]
  },
  {
   "cell_type": "code",
   "execution_count": 126,
   "id": "2ffb9f03",
   "metadata": {},
   "outputs": [
    {
     "name": "stdout",
     "output_type": "stream",
     "text": [
      "Accuracy when replacing \"sono\": 84.0%\n",
      "Accuracy when replacing \"siano\": 70.0%\n",
      "[[], []]\n"
     ]
    }
   ],
   "source": [
    "experiment_2(corpus, 'sono', 'siano', 50, 15)"
   ]
  },
  {
   "cell_type": "code",
   "execution_count": 134,
   "id": "7efbe6e5",
   "metadata": {},
   "outputs": [
    {
     "name": "stdout",
     "output_type": "stream",
     "text": [
      "Accuracy when replacing \"è\": 98.0%\n",
      "Accuracy when replacing \"sia\": 36.0%\n",
      "[[], []]\n",
      "Accuracy when replacing \"è\": 94.0%\n",
      "Accuracy when replacing \"sia\": 42.0%\n",
      "[[], []]\n",
      "Accuracy when replacing \"è\": 94.0%\n",
      "Accuracy when replacing \"sia\": 58.0%\n",
      "[[], []]\n",
      "Accuracy when replacing \"è\": 88.0%\n",
      "Accuracy when replacing \"sia\": 60.0%\n",
      "[[], []]\n",
      "Accuracy when replacing \"è\": 92.0%\n",
      "Accuracy when replacing \"sia\": 60.0%\n",
      "[[], []]\n"
     ]
    }
   ],
   "source": [
    "for i in [1, 2, 3, 4, 5]:\n",
    "    experiment_2(corpus, 'è', 'sia', 50, i)"
   ]
  },
  {
   "cell_type": "code",
   "execution_count": 136,
   "id": "eb4095cb",
   "metadata": {},
   "outputs": [
    {
     "name": "stdout",
     "output_type": "stream",
     "text": [
      "Accuracy when replacing \"sono\": 100.0%\n",
      "Accuracy when replacing \"siano\": 47.0%\n",
      "[[], []]\n",
      "Accuracy when replacing \"sono\": 95.0%\n",
      "Accuracy when replacing \"siano\": 52.0%\n",
      "[[], []]\n",
      "Accuracy when replacing \"sono\": 94.0%\n",
      "Accuracy when replacing \"siano\": 70.0%\n",
      "[[], []]\n",
      "Accuracy when replacing \"sono\": 88.0%\n",
      "Accuracy when replacing \"siano\": 69.0%\n",
      "[[], []]\n",
      "Accuracy when replacing \"sono\": 93.0%\n",
      "Accuracy when replacing \"siano\": 75.0%\n",
      "[[], []]\n"
     ]
    }
   ],
   "source": [
    "for i in [5,7, 10,12, 15]:\n",
    "    experiment_2(corpus, 'sono', 'siano', 100, i)"
   ]
  },
  {
   "cell_type": "code",
   "execution_count": 114,
   "id": "7176e2b1",
   "metadata": {},
   "outputs": [
    {
     "name": "stdout",
     "output_type": "stream",
     "text": [
      "Accuracy when replacing \"erano\": 97.0%\n",
      "Accuracy when replacing \"fossero\": 51.666666666666664%\n",
      "[[], []]\n",
      "Accuracy when replacing \"erano\": 93.33333333333333%\n",
      "Accuracy when replacing \"fossero\": 63.333333333333336%\n",
      "[[], []]\n",
      "Accuracy when replacing \"erano\": 92.66666666666667%\n",
      "Accuracy when replacing \"fossero\": 67.33333333333333%\n",
      "[[], []]\n",
      "Accuracy when replacing \"erano\": 91.0%\n",
      "Accuracy when replacing \"fossero\": 72.66666666666667%\n",
      "[[], []]\n",
      "Accuracy when replacing \"erano\": 92.0%\n",
      "Accuracy when replacing \"fossero\": 73.0%\n",
      "[[], []]\n",
      "Accuracy when replacing \"erano\": 88.66666666666667%\n",
      "Accuracy when replacing \"fossero\": 77.66666666666667%\n",
      "[[], []]\n"
     ]
    }
   ],
   "source": [
    "for i in [1,1.5,2,2.5,3,3.5]:\n",
    "    experiment_2(corpus, 'erano', 'fossero', 300, i)"
   ]
  },
  {
   "cell_type": "code",
   "execution_count": 135,
   "id": "62a6a269",
   "metadata": {},
   "outputs": [
    {
     "name": "stdout",
     "output_type": "stream",
     "text": [
      "Accuracy when replacing \"è\": 96.0%\n",
      "Accuracy when replacing \"sia\": 42.0%\n",
      "[[], []]\n",
      "Accuracy when replacing \"sono\": 96.0%\n",
      "Accuracy when replacing \"siano\": 48.0%\n",
      "[[], []]\n",
      "Accuracy when replacing \"erano\": 90.0%\n",
      "Accuracy when replacing \"fossero\": 68.0%\n",
      "[[], []]\n"
     ]
    }
   ],
   "source": [
    "experiment_2(corpus, 'è', 'sia', 50, 2.5)\n",
    "experiment_2(corpus, 'sono', 'siano', 50, 2.5)\n",
    "experiment_2(corpus, 'erano', 'fossero', 50, 2.5)"
   ]
  },
  {
   "cell_type": "code",
   "execution_count": 137,
   "id": "35cc5380",
   "metadata": {},
   "outputs": [
    {
     "name": "stdout",
     "output_type": "stream",
     "text": [
      "Accuracy when replacing \"è\": 96.0%\n",
      "Accuracy when replacing \"sia\": 40.666666666666664%\n",
      "[[], []]\n",
      "Accuracy when replacing \"sono\": 97.33333333333333%\n",
      "Accuracy when replacing \"siano\": 41.333333333333336%\n",
      "[[], []]\n",
      "Accuracy when replacing \"erano\": 92.0%\n",
      "Accuracy when replacing \"fossero\": 68.66666666666667%\n",
      "[[], []]\n"
     ]
    }
   ],
   "source": [
    "experiment_2(corpus, 'è', 'sia', 150, 2.5)\n",
    "experiment_2(corpus, 'sono', 'siano', 150, 2.5)\n",
    "experiment_2(corpus, 'erano', 'fossero', 150, 2.5)"
   ]
  }
 ],
 "metadata": {
  "kernelspec": {
   "display_name": "Python 3 (ipykernel)",
   "language": "python",
   "name": "python3"
  },
  "language_info": {
   "codemirror_mode": {
    "name": "ipython",
    "version": 3
   },
   "file_extension": ".py",
   "mimetype": "text/x-python",
   "name": "python",
   "nbconvert_exporter": "python",
   "pygments_lexer": "ipython3",
   "version": "3.9.13"
  }
 },
 "nbformat": 4,
 "nbformat_minor": 5
}
