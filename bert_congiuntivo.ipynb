{
 "cells": [
  {
   "cell_type": "markdown",
   "id": "d5d8e747",
   "metadata": {},
   "source": [
    "# Analysis of BERT's knowledge of the Italian Subjunctive"
   ]
  },
  {
   "cell_type": "markdown",
   "id": "0f3aaa0f",
   "metadata": {},
   "source": [
    "### Imports"
   ]
  },
  {
   "cell_type": "code",
   "execution_count": 1,
   "id": "9521cc25",
   "metadata": {},
   "outputs": [],
   "source": [
    "import torch\n",
    "import torch.nn.functional as F\n",
    "from transformers import AutoModelForMaskedLM, AutoTokenizer\n",
    "import re\n",
    "from datasets import load_dataset"
   ]
  },
  {
   "cell_type": "markdown",
   "id": "1f93d4e5",
   "metadata": {},
   "source": [
    "### Functions for corpus creation and extraction of sentences with specific words"
   ]
  },
  {
   "cell_type": "code",
   "execution_count": 3,
   "id": "4eba180f",
   "metadata": {},
   "outputs": [],
   "source": [
    "# Returns a list of strings created from the opus100 dataset\n",
    "def create_corpus():\n",
    "    corpus = []\n",
    "    for entry in dataset['train']:\n",
    "        corpus.append(entry['translation']['it'])\n",
    "\n",
    "\n",
    "    sentence_pattern = re.compile(r'[^.!?]*[.!?]')\n",
    "    sentences = []\n",
    "    for entry in corpus:\n",
    "        sents = sentence_pattern.findall(entry)\n",
    "        for sent in sents:\n",
    "            sentences.append(sent.strip())\n",
    "    return sentences\n",
    "\n",
    "\n",
    "# Given a list of strings, returns a list of all the strings that contain the word\n",
    "def find_instances(corpus, word):\n",
    "    instances = []\n",
    "    for sentence in corpus:\n",
    "        pattern = re.compile(fr'\\b{re.escape(word)}\\b') #, flags=re.IGNORECASE\n",
    "        if pattern.findall(sentence):\n",
    "            instances.append(sentence.strip())\n",
    "    for sentence in instances:\n",
    "        if word.upper() in sentence:\n",
    "            instances.remove(sentence)\n",
    "    return instances\n",
    "\n",
    "\n",
    "# Returns tokenized sentence, replacing specified token with mask token id\n",
    "def tokenize_and_mask(sentence, word):\n",
    "    \n",
    "    mapping = tokenizer(sentence, return_tensors='pt')\n",
    "    tokens = mapping['input_ids'][0]\n",
    "    \n",
    "    mask_id = 103\n",
    "    word_id_lower = tokenizer.convert_tokens_to_ids(word.lower())\n",
    "    word_id_cap = tokenizer.convert_tokens_to_ids(word.capitalize())\n",
    "    \n",
    "    for index, value in enumerate(tokens):\n",
    "        if value.item() == word_id_lower or value.item() == word_id_cap:\n",
    "            tokens[index] = mask_id\n",
    "            break\n",
    "    mapping['input_ids'][0] = tokens\n",
    "    return mapping\n",
    "\n"
   ]
  },
  {
   "cell_type": "code",
   "execution_count": 4,
   "id": "8b1963f0",
   "metadata": {},
   "outputs": [],
   "source": [
    "dataset = load_dataset(\"opus100\", \"en-it\")\n",
    "corpus = create_corpus()"
   ]
  },
  {
   "cell_type": "code",
   "execution_count": 63,
   "id": "8e626c4d",
   "metadata": {},
   "outputs": [
    {
     "data": {
      "text/plain": [
       "(12587, 76032)"
      ]
     },
     "execution_count": 63,
     "metadata": {},
     "output_type": "execute_result"
    }
   ],
   "source": [
    "len(find_instances(corpus, 'sia')), len(find_instances(corpus, 'è'))"
   ]
  },
  {
   "cell_type": "code",
   "execution_count": 10,
   "id": "9c0821a6",
   "metadata": {},
   "outputs": [],
   "source": [
    "class Bert():\n",
    "    \n",
    "    def __init__(self, name, mode, tokenizer):\n",
    "        self.name = name\n",
    "        self.model = model\n",
    "        self.tokenizer = tokenizer\n",
    "        self.mask_id = tokenizer.mask_token_id\n",
    "        self.mask = tokenizer.mask_token\n",
    "        \n",
    "    def tokenize(self, sentence):\n",
    "        tokenized_input = tokenizer(sentence, return_tensors='pt')\n",
    "        return tokenized_input\n",
    "    \n",
    "    def forward(self, tokens):\n",
    "        output = self.model(**tokens)\n",
    "        return output\n",
    "    \n",
    "    def logits(self, output, mask_location):\n",
    "        logits = F.softmax(output.logits[:,mask_location,:], dim=1).squeeze()\n",
    "        return logits\n",
    "    \n",
    "    def token_prob(self, logits, token):\n",
    "        return logits[tokenizer.convert_tokens_to_ids(token)].item()"
   ]
  },
  {
   "cell_type": "code",
   "execution_count": 11,
   "id": "2ae7639b",
   "metadata": {},
   "outputs": [
    {
     "name": "stderr",
     "output_type": "stream",
     "text": [
      "Some weights of the model checkpoint at bert-base-multilingual-cased were not used when initializing BertForMaskedLM: ['cls.seq_relationship.weight', 'cls.seq_relationship.bias']\n",
      "- This IS expected if you are initializing BertForMaskedLM from the checkpoint of a model trained on another task or with another architecture (e.g. initializing a BertForSequenceClassification model from a BertForPreTraining model).\n",
      "- This IS NOT expected if you are initializing BertForMaskedLM from the checkpoint of a model that you expect to be exactly identical (initializing a BertForSequenceClassification model from a BertForSequenceClassification model).\n",
      "Some weights of BertForMaskedLM were not initialized from the model checkpoint at bert-base-multilingual-cased and are newly initialized: ['cls.predictions.decoder.weight']\n",
      "You should probably TRAIN this model on a down-stream task to be able to use it for predictions and inference.\n"
     ]
    }
   ],
   "source": [
    "model = AutoModelForMaskedLM.from_pretrained(\"bert-base-multilingual-cased\")\n",
    "tokenizer = AutoTokenizer.from_pretrained('bert-base-multilingual-cased')\n",
    "bert = Bert(\"bert\", model, tokenizer)\n",
    "mask_id = bert.tokenizer.mask_token_id"
   ]
  },
  {
   "cell_type": "code",
   "execution_count": 44,
   "id": "161a7dcf",
   "metadata": {},
   "outputs": [],
   "source": [
    "# Given a sentence, this function masks a specified token and returns the\n",
    "# probability assigned to a token for that position\n",
    "\n",
    "def test_sentence(sentence, word_to_mask, word_to_test):\n",
    "    tokenized = tokenize_and_mask(sentence, word_to_mask)\n",
    "    try:\n",
    "        mask_location = list(tokenized['input_ids'][0]).index(mask_id)\n",
    "    except:\n",
    "        return None\n",
    "    return bert.token_prob(bert.logits(bert.forward(tokenized), mask_location), word_to_test)\n",
    "\n"
   ]
  },
  {
   "cell_type": "code",
   "execution_count": 39,
   "id": "9e972e23",
   "metadata": {},
   "outputs": [
    {
     "data": {
      "text/plain": [
       "0.20595484972000122"
      ]
     },
     "execution_count": 39,
     "metadata": {},
     "output_type": "execute_result"
    }
   ],
   "source": [
    "test_sentence('Non è necessario che [MASK] così.', 'sia', 'è')"
   ]
  },
  {
   "cell_type": "code",
   "execution_count": 40,
   "id": "d6e321e4",
   "metadata": {},
   "outputs": [
    {
     "data": {
      "text/plain": [
       "0.072059266269207"
      ]
     },
     "execution_count": 40,
     "metadata": {},
     "output_type": "execute_result"
    }
   ],
   "source": [
    "test_sentence('Non è necessario che [MASK] così.', 'sia', 'sia')"
   ]
  },
  {
   "cell_type": "code",
   "execution_count": 43,
   "id": "6523ca23",
   "metadata": {},
   "outputs": [],
   "source": [
    "test_sentence('Non credo che veramente tedesco.', 'sia', 'sia')"
   ]
  },
  {
   "cell_type": "code",
   "execution_count": 26,
   "id": "a8394dc8",
   "metadata": {},
   "outputs": [
    {
     "data": {
      "text/plain": [
       "0.7472403049468994"
      ]
     },
     "execution_count": 26,
     "metadata": {},
     "output_type": "execute_result"
    }
   ],
   "source": [
    "test_sentence('Non credo che sia veramente tedesco.', 'sia', 'è')"
   ]
  },
  {
   "cell_type": "code",
   "execution_count": 27,
   "id": "9702db7c",
   "metadata": {},
   "outputs": [],
   "source": [
    "a = bert.forward(bert.tokenize('Non credo che [MASK] veramente tedesco.'))\n",
    "b = bert.logits(a, 5)\n",
    "c = bert.token_prob(b, 'sia')\n"
   ]
  },
  {
   "cell_type": "code",
   "execution_count": 28,
   "id": "a701a52b",
   "metadata": {},
   "outputs": [
    {
     "data": {
      "text/plain": [
       "0.019019730389118195"
      ]
     },
     "execution_count": 28,
     "metadata": {},
     "output_type": "execute_result"
    }
   ],
   "source": [
    "bert.token_prob(b, 'sia')"
   ]
  },
  {
   "cell_type": "code",
   "execution_count": 29,
   "id": "7e0f0b23",
   "metadata": {},
   "outputs": [
    {
     "data": {
      "text/plain": [
       "0.7472403049468994"
      ]
     },
     "execution_count": 29,
     "metadata": {},
     "output_type": "execute_result"
    }
   ],
   "source": [
    "bert.token_prob(b, 'è')"
   ]
  },
  {
   "cell_type": "code",
   "execution_count": 30,
   "id": "b65dc980",
   "metadata": {},
   "outputs": [
    {
     "data": {
      "text/plain": [
       "0.019019730389118195"
      ]
     },
     "execution_count": 30,
     "metadata": {},
     "output_type": "execute_result"
    }
   ],
   "source": [
    "test_sentence('Non credo che sia veramente tedesco.', 'sia', 'sia')"
   ]
  },
  {
   "cell_type": "markdown",
   "id": "d728288a",
   "metadata": {},
   "source": [
    "## Experiment 1: Quantitative Analysis\n",
    "\n",
    "Comparison of accuracy for word pairs of contrasting grammatical mood"
   ]
  },
  {
   "cell_type": "code",
   "execution_count": 68,
   "id": "1983f1b6",
   "metadata": {},
   "outputs": [],
   "source": [
    "import random\n",
    "\n",
    "def replace_compare(corpus, n, word_1, word_2):\n",
    "\n",
    "    corp_1 = find_instances(corpus, word_1)\n",
    "    corp_1 = random.sample(corp_1, n)\n",
    "    corp_1_n_correct = 0\n",
    "    \n",
    "    odds = 0\n",
    "    odds_correct = 0\n",
    "    odds_false = 0\n",
    "    \n",
    "    congruent_probs = 0\n",
    "    incongruent_probs = 0\n",
    "    \n",
    "    correct_prob_congruent = 0\n",
    "    correct_prob_incongruent = 0\n",
    "    false_prob_congruent = 0\n",
    "    false_prob_incongruent = 0\n",
    "    \n",
    "    samples = []\n",
    "\n",
    "    for sentence in corp_1:\n",
    "        correct_prob = test_sentence(sentence, word_1, word_1)\n",
    "        false_prob = test_sentence(sentence, word_1, word_2)\n",
    "        if correct_prob == None:\n",
    "            print(sentence)\n",
    "            continue\n",
    "        if false_prob == None:\n",
    "            print(sentence)\n",
    "            continue\n",
    "\n",
    "        congruent_probs += correct_prob\n",
    "        incongruent_probs += false_prob\n",
    "        \n",
    "        odd = correct_prob / false_prob\n",
    "        odds += odd\n",
    "\n",
    "        if correct_prob >= false_prob:\n",
    "            corp_1_n_correct += 1\n",
    "            odds_correct += odd\n",
    "            correct_prob_congruent += correct_prob\n",
    "            false_prob_congruent += false_prob\n",
    "        else:\n",
    "            samples.append(sentence)\n",
    "            odds_false += odd\n",
    "            correct_prob_incongruent += correct_prob\n",
    "            false_prob_incongruent += false_prob\n",
    "            \n",
    "    corp_1_n_false = len(corp_1)-corp_1_n_correct\n",
    "    if corp_1_n_false == 0:\n",
    "        corp_1_n_false = 0.0000001\n",
    "        \n",
    "    print(f\"### {word_1} was replaced ###\")       \n",
    "    print(f'Accuracy when replacing \"{word_1}\": {100*corp_1_n_correct/len(corp_1)}%')\n",
    "    print(f'The average odds is: {odds/len(corp_1)}\\n')\n",
    "    \n",
    "    print(f'The average odds when predicting correctly is: {odds_correct/corp_1_n_correct}')\n",
    "    print(f'The average odds when predicting falsely is: {odds_false/corp_1_n_false}\\n')\n",
    "    \n",
    "    print(f'The average probability for {word_1} was: {congruent_probs/n}')\n",
    "    print(f'The average probability for {word_2} was: {incongruent_probs/n}\\n')\n",
    "    \n",
    "    print(f'The average probability for {word_1} when predicting correctly is: {correct_prob_congruent/corp_1_n_correct}')\n",
    "    print(f'The average probability for {word_2} when predicting correctly is: {false_prob_congruent/corp_1_n_correct}')\n",
    "    print(f'The average probability for {word_1} when predicting falsely is: {correct_prob_incongruent/corp_1_n_false}')\n",
    "    print(f'The average probability for {word_2} when predicting falsely is: {false_prob_incongruent/corp_1_n_false}\\n\\n')\n",
    "\n",
    "    if len(samples) > 5:\n",
    "        return samples[:5]\n",
    "    return samples\n",
    "    \n",
    "    \n",
    "\n",
    "def experiment_1(corpus, word_1, word_2, n):\n",
    "    samples = []\n",
    "    samples.append(replace_compare(corpus, n, word_1, word_2))\n",
    "    samples.append(replace_compare(corpus, n, word_2, word_1))\n",
    "    print(samples)\n",
    "    "
   ]
  },
  {
   "cell_type": "code",
   "execution_count": 127,
   "id": "3fd1545f",
   "metadata": {},
   "outputs": [
    {
     "name": "stdout",
     "output_type": "stream",
     "text": [
      "### sia was replaced ###\n",
      "Accuracy when replacing \"sia\": 35.0%\n",
      "The average odds is: 2065.6235220069034\n",
      "\n",
      "The average odds when predicting correctly is: 5901.331832324423\n",
      "The average odds when predicting falsely is: 0.24212414362338394\n",
      "\n",
      "The average probability for sia was: 0.22937348860322762\n",
      "The average probability for è was: 0.2905929743952131\n",
      "\n",
      "The average probability for sia when predicting correctly is: 0.5176749309159331\n",
      "The average probability for è when predicting correctly is: 0.08616592725202987\n",
      "The average probability for sia when predicting falsely is: 0.07413425043484774\n",
      "The average probability for è when predicting falsely is: 0.40066907670308094\n",
      "\n",
      "\n",
      "### è was replaced ###\n",
      "Accuracy when replacing \"è\": 98.2%\n",
      "The average odds is: 3872.287146190136\n",
      "\n",
      "The average odds when predicting correctly is: 3943.2568439179477\n",
      "The average odds when predicting falsely is: 0.49585903949949794\n",
      "\n",
      "The average probability for è was: 0.6171230605177229\n",
      "The average probability for sia was: 0.017899697898452586\n",
      "\n",
      "The average probability for è when predicting correctly is: 0.6276059907899936\n",
      "The average probability for sia when predicting correctly is: 0.01712289849529844\n",
      "The average probability for è when predicting falsely is: 0.04522097566384926\n",
      "The average probability for sia when predicting falsely is: 0.06027842089275105\n",
      "\n",
      "\n",
      "[['Mi auguro che in tale strategia comunitaria per uno sviluppo sostenibile sia attribuito un ruolo importante allo sviluppo dei centri urbani.', 'Io credo che sia una storia totalmente diversa.', 'Quale credi sia meglio?', \"Non credo che sia necessario adeguare tutti i sistemi nazionali di protezione sociale a uno stesso stampo, non è mai stato questo il punto, ma semplicemente di assicurarsi che nell 'Europa di 30 o 27 paesi sussistano le migliori condizioni di funzionamento del mercato interno, senza che uno Stato possa bloccare gli altri 26 o 27.\", 'E mi abbandonerai presto, a meno che non sia sincero con te.'], ['Vuoi sapere con esattezza cos’è, chi lo ha creato e come aprirlo?', '-Sembra strano, ma non lo è.', 'Se l’allegria pasquale non traspare nei nostri atteggiamenti è perché abbiamo una fede superficiale o scarsa o, piú chiaramente, non l’abbiamo.', \"(1) Una corte che, su ricorso di un titolare dei dati, si convinca che i dati personali di cui il richiedente è titolare sono inesatti, può ordinare al controllore dei dati di rettificare, bloccare, cancellare o distruggere questi e tutti gli altri dati personali del cui trattamento sia responsabile, contenenti l'espressione di un parere che la corte ritenga basata sui dati inesatti.\", \"Andrò al tempio stasera che è, si dà il caso, nei sotterranei dell'Imperial, proprio come ti avevo detto.\"]]\n"
     ]
    }
   ],
   "source": [
    "experiment_1(corpus, 'sia', 'è', 500)"
   ]
  },
  {
   "cell_type": "code",
   "execution_count": 82,
   "id": "cca6c763",
   "metadata": {},
   "outputs": [
    {
     "name": "stdout",
     "output_type": "stream",
     "text": [
      "### sono was replaced ###\n",
      "Accuracy when replacing \"sono\": 99.8%\n",
      "The average odds is: 902.499674573009\n",
      "\n",
      "The average odds when predicting correctly is: 904.306779757173\n",
      "The average odds when predicting falsely is: 0.7541876751871859\n",
      "\n",
      "The average probability for sono was: 0.4724690455650628\n",
      "The average probability for siano was: 0.008801220344894339\n",
      "\n",
      "The average probability for sono when predicting correctly is: 0.4728989485126519\n",
      "The average probability for siano when predicting correctly is: 0.008133446691860825\n",
      "The average probability for sono when predicting falsely is: 0.25794747471809387\n",
      "The average probability for siano when predicting falsely is: 0.34202027320861816\n",
      "\n",
      "\n",
      "### siano was replaced ###\n",
      "Accuracy when replacing \"siano\": 27.2%\n",
      "The average odds is: 6.943140354481208\n",
      "\n",
      "The average odds when predicting correctly is: 24.96537005337328\n",
      "The average odds when predicting falsely is: 0.20956002742263588\n",
      "\n",
      "The average probability for siano was: 0.21949496043055083\n",
      "The average probability for sono was: 0.37695703602986924\n",
      "\n",
      "The average probability for siano when predicting correctly is: 0.5748870224975382\n",
      "The average probability for sono when predicting correctly is: 0.14699915285545812\n",
      "The average probability for siano when predicting falsely is: 0.08671111306486325\n",
      "The average probability for sono when predicting falsely is: 0.4628753660071218\n",
      "\n",
      "\n",
      "[['In altre parole, non appena vi sono ragionevoli motivi di ritenere che gli stock del merluzzo bianco e del nasello necessitano di protezione, si dovrebbe intervenire, proprio come ha fatto la Commissione.'], ['Ciò significa che cercheremo di lavorare in modo coerente, insieme con il Presidente, il Consiglio, il segretariato del Consiglio e il signor Solana, per stabilire quali siano gli strumenti migliori da usare per garantire quanto prima la coerenza, la rapidità e l’efficacia della politica estera.', \"E 'senz' altro positivo che le risorse per progetti regolari siano distinte da quelle per le misure urgenti di cui all' articolo 5.\", 'Il CHMP era del parere che nell’ UE il consenso informato in forma scritta sia legato a prodotti di cui siano riconosciuti i gravi rischi e che l’ introduzione dell’ obbligo di consenso informato per Implanon, uno dei vari metodi contraccettivi di largo uso, non sia giustificata e che costituirebbe un’ indicazione forte di un rischio che certamente non esiste.', 'Le cruciali clausole comuni di difesa sono state discusse “durante la cena”, ma a parte la salutare inversione di marcia del Primo Ministro Blair sulla cooperazione strutturata, sembra si siano raggiunti scarsi risultati, salvo provocare un’indigestione agli americani.', 'La cornice superiore della griglia è un esempio di come tutti i dettagli siano stati accuratamente studiati: ha una doppia inclinazione, così che nella parte alta risulta di fatto il proseguimento della superficie del cofano, quest’ultimo ampio e ben modellato, strutturato semplicemente da due nervature divergenti che partono dal punto di incontro tra i fari e la calandra.']]\n"
     ]
    }
   ],
   "source": [
    "experiment_1(corpus, 'sono', 'siano', 500)"
   ]
  },
  {
   "cell_type": "code",
   "execution_count": 83,
   "id": "c9b49636",
   "metadata": {},
   "outputs": [
    {
     "name": "stdout",
     "output_type": "stream",
     "text": [
      "### erano was replaced ###\n",
      "Accuracy when replacing \"erano\": 96.8%\n",
      "The average odds is: 4789.918643201053\n",
      "\n",
      "The average odds when predicting correctly is: 4948.241735659056\n",
      "The average odds when predicting falsely is: 0.6450963464581804\n",
      "\n",
      "The average probability for erano was: 0.21596862357176289\n",
      "The average probability for fossero was: 0.006847677124260147\n",
      "\n",
      "The average probability for erano when predicting correctly is: 0.22195900099920945\n",
      "The average probability for fossero when predicting correctly is: 0.00524275290184653\n",
      "The average probability for erano when predicting falsely is: 0.03475970639150461\n",
      "The average probability for fossero when predicting falsely is: 0.055396634852272086\n",
      "\n",
      "\n",
      "### fossero was replaced ###\n",
      "Accuracy when replacing \"fossero\": 52.4%\n",
      "The average odds is: 9.671214116278168\n",
      "\n",
      "The average odds when predicting correctly is: 18.152567811046676\n",
      "The average odds when predicting falsely is: 0.33459786405400954\n",
      "\n",
      "The average probability for fossero was: 0.07874987738008259\n",
      "The average probability for erano was: 0.05472067933895747\n",
      "\n",
      "The average probability for fossero when predicting correctly is: 0.12896836198159592\n",
      "The average probability for erano when predicting correctly is: 0.02460254231907945\n",
      "The average probability for fossero when predicting falsely is: 0.02346734391118976\n",
      "The average probability for erano when predicting falsely is: 0.08787593941966353\n",
      "\n",
      "\n",
      "[['E quali erano questi epiteti?', 'In una recente decisione riguardante i vantaggi fiscali concessi dalle autorità della regione delle Azzorre, la Commissione è giunta alla conclusione che le misure considerate erano selettive sebbene si applicassero a tutte le imprese attive in quella regione [30].', 'E poi, non erano circostanze normali queste.', 'Egli è quindi in grado di dirci quali erano le vere intenzioni degli architetti del Vaticano II, cosa da non confondersi con le intenzioni dei Padri Conciliari in generale.', 'Esso ha anche argomentato che, mentre alcuni degli investimenti erano potenzialmente in grado di ridurre il tempo di assemblaggio, tale effetto sarebbe controbilanciato da un’importante modifica del metodo di produzione, ossia nell’allestimento anticipato.'], ['Non sapevi neanche cosa fossero fino a due secondi fa.', 'Immagino tu abbia pensato che tutti i vecchi residenti fossero scomparsi.', 'Che le cose si fossero interrotte, che ne so, anche solo per una notte.', 'Pensavo fossero uffici.', \"Non importa cosa fossero i suoi trofei, l'avevamo preso.\"]]\n"
     ]
    }
   ],
   "source": [
    "experiment_1(corpus, 'erano', 'fossero', 500)"
   ]
  },
  {
   "cell_type": "code",
   "execution_count": 198,
   "id": "31b9e94e",
   "metadata": {},
   "outputs": [
    {
     "name": "stdout",
     "output_type": "stream",
     "text": [
      "Non 0.5619245767593384\n",
      "non 0.2179812639951706\n",
      "è 0.017772043123841286\n",
      "no 0.009306162595748901\n",
      "No 0.008768565952777863\n"
     ]
    }
   ],
   "source": [
    "for item in list(topk_indices):\n",
    "    print(tokenizer.convert_ids_to_tokens(item.item()), logits[item.item()].item())"
   ]
  },
  {
   "cell_type": "code",
   "execution_count": 109,
   "id": "271acabd",
   "metadata": {},
   "outputs": [],
   "source": [
    "import random\n",
    "\n",
    "def replace_compare_2(corpus, n, word_1, word_2, x):\n",
    "\n",
    "    corp_1 = find_instances(corpus, word_1)\n",
    "    corp_1 = random.sample(corp_1, n)\n",
    "    corp_1_n_correct = 0\n",
    "    \n",
    "    samples = []\n",
    "\n",
    "    for sentence in corp_1:\n",
    "        correct_prob = test_sentence(sentence, word_1, word_1)\n",
    "        false_prob = test_sentence(sentence, word_1, word_2)\n",
    "        if correct_prob == None:\n",
    "            print(sentence)\n",
    "            continue\n",
    "        if false_prob == None:\n",
    "            print(sentence)\n",
    "            continue\n",
    "\n",
    "\n",
    "        if x * correct_prob >= false_prob:\n",
    "            corp_1_n_correct += 1\n",
    "            \n",
    "    corp_1_n_false = len(corp_1)-corp_1_n_correct\n",
    "    if corp_1_n_false == 0:\n",
    "        corp_1_n_false = 0.0000001\n",
    "     \n",
    "    print(f'Accuracy when replacing \"{word_1}\": {100*corp_1_n_correct/len(corp_1)}%')\n",
    "    \n",
    "    if len(samples) > 5:\n",
    "        return samples[:5]\n",
    "    return samples\n",
    "    \n",
    "    \n",
    "\n",
    "def experiment_2(corpus, word_1, word_2, n, x):\n",
    "    samples = []\n",
    "    samples.append(replace_compare_2(corpus, n, word_1, word_2, 1/x))\n",
    "    samples.append(replace_compare_2(corpus, n, word_2, word_1, x))\n",
    "    print(samples)"
   ]
  },
  {
   "cell_type": "code",
   "execution_count": 88,
   "id": "ffd46932",
   "metadata": {},
   "outputs": [
    {
     "name": "stdout",
     "output_type": "stream",
     "text": [
      "### sono was replaced ###\n",
      "Accuracy when replacing \"sono\": 100.0%\n",
      "The average odds is: 1157.1675375276545\n",
      "\n",
      "The average odds when predicting correctly is: 1157.1675375276545\n",
      "The average odds when predicting falsely is: 0.0\n",
      "\n",
      "The average probability for sono was: 0.4579587295591773\n",
      "The average probability for siano was: 0.00396752415610365\n",
      "\n",
      "The average probability for sono when predicting correctly is: 0.4579587295591773\n",
      "The average probability for siano when predicting correctly is: 0.00396752415610365\n",
      "The average probability for sono when predicting falsely is: 0.0\n",
      "The average probability for siano when predicting falsely is: 0.0\n",
      "\n",
      "\n",
      "### siano was replaced ###\n",
      "Accuracy when replacing \"siano\": 95.0%\n",
      "The average odds is: 2.3453953988131233\n",
      "\n",
      "The average odds when predicting correctly is: 2.4685262204107725\n",
      "The average odds when predicting falsely is: 0.005909788457789384\n",
      "\n",
      "The average probability for siano was: 0.188029572701865\n",
      "The average probability for sono was: 0.4312951381831078\n",
      "\n",
      "The average probability for siano when predicting correctly is: 0.19765440337491383\n",
      "The average probability for sono when predicting correctly is: 0.40939749184707885\n",
      "The average probability for siano when predicting falsely is: 0.0051577899139374495\n",
      "The average probability for sono when predicting falsely is: 0.8473504185676575\n",
      "\n",
      "\n",
      "[[], ['Quanti di voi pensano che ci siano più maschi nel mondo?', \"Ha anche detto che i cospiratori per il mio assassinio siano dell'opposizione.\", \"Tu accetti che dieci anni siano un bel po' e che gli iPod non sono solo una moda e che magari e' ora che qualcun altro si prenda piu' responsabilita'?\", \"Mi rammarico che alcuni onorevoli deputati oggi siano diventati strumento dell'opposizione socialista nel corso della campagna elettorale.\", \"Concordo sul fatto che la protezione e la considerazione dell' ambiente siano una necessità, se non addirittura un obbligo, ma gli Stati membri, nell' ambito della sussidiarietà, sono in grado di operare meglio!\"]]\n"
     ]
    }
   ],
   "source": [
    "experiment_2(corpus, 'sono', 'siano', 10, 10)"
   ]
  },
  {
   "cell_type": "code",
   "execution_count": 89,
   "id": "c761f0be",
   "metadata": {},
   "outputs": [
    {
     "name": "stdout",
     "output_type": "stream",
     "text": [
      "### erano was replaced ###\n",
      "Accuracy when replacing \"erano\": 100.0%\n",
      "The average odds is: 3657.332465502502\n",
      "\n",
      "The average odds when predicting correctly is: 3657.332465502502\n",
      "The average odds when predicting falsely is: 0.0\n",
      "\n",
      "The average probability for erano was: 0.1887540190281468\n",
      "The average probability for fossero was: 0.007481184508735399\n",
      "\n",
      "The average probability for erano when predicting correctly is: 0.1887540190281468\n",
      "The average probability for fossero when predicting correctly is: 0.007481184508735399\n",
      "The average probability for erano when predicting falsely is: 0.0\n",
      "The average probability for fossero when predicting falsely is: 0.0\n",
      "\n",
      "\n",
      "### fossero was replaced ###\n",
      "Accuracy when replacing \"fossero\": 99.0%\n",
      "The average odds is: 6.815849145987573\n",
      "\n",
      "The average odds when predicting correctly is: 6.884647669100133\n",
      "The average odds when predicting falsely is: 0.00479535784401859\n",
      "\n",
      "The average probability for fossero was: 0.08284206437712918\n",
      "The average probability for erano was: 0.05442053059211335\n",
      "\n",
      "The average probability for fossero when predicting correctly is: 0.08367885290602828\n",
      "The average probability for erano when predicting correctly is: 0.05497023288737022\n",
      "The average probability for fossero when predicting falsely is: 1.612047474675027e-11\n",
      "The average probability for erano when predicting falsely is: 3.3616833761129783e-09\n",
      "\n",
      "\n",
      "[[], ['Ad ogni modo, nessuno dei produttori esportatori in questione è stato in grado di indicare se e in che misura gli oneri all’importazione e le imposte indirette fossero sostenuti per il prodotto simile venduto sul mercato interno.']]\n"
     ]
    }
   ],
   "source": [
    "experiment_2(corpus, 'erano', 'fossero', 100)"
   ]
  },
  {
   "cell_type": "code",
   "execution_count": 93,
   "id": "5b91cc99",
   "metadata": {},
   "outputs": [
    {
     "name": "stdout",
     "output_type": "stream",
     "text": [
      "### sono was replaced ###\n",
      "Accuracy when replacing \"sono\": 100.0%\n",
      "The average odds is: 444.5960143193952\n",
      "\n",
      "The average odds when predicting correctly is: 444.5960143193952\n",
      "The average odds when predicting falsely is: 0.0\n",
      "\n",
      "The average probability for sono was: 0.44315625164308586\n",
      "The average probability for siano was: 0.005199900197476381\n",
      "\n",
      "The average probability for sono when predicting correctly is: 0.44315625164308586\n",
      "The average probability for siano when predicting correctly is: 0.005199900197476381\n",
      "The average probability for sono when predicting falsely is: 0.0\n",
      "The average probability for siano when predicting falsely is: 0.0\n",
      "\n",
      "\n",
      "### siano was replaced ###\n",
      "Accuracy when replacing \"siano\": 100.0%\n",
      "The average odds is: 11.861151553190883\n",
      "\n",
      "The average odds when predicting correctly is: 11.861151553190883\n",
      "The average odds when predicting falsely is: 0.0\n",
      "\n",
      "The average probability for siano was: 0.1770077091103303\n",
      "The average probability for sono was: 0.31462434413842855\n",
      "\n",
      "The average probability for siano when predicting correctly is: 0.1770077091103303\n",
      "The average probability for sono when predicting correctly is: 0.31462434413842855\n",
      "The average probability for siano when predicting falsely is: 0.0\n",
      "The average probability for sono when predicting falsely is: 0.0\n",
      "\n",
      "\n",
      "[[], []]\n"
     ]
    }
   ],
   "source": [
    "experiment_2(corpus, 'sono', 'siano', 10, 500)"
   ]
  },
  {
   "cell_type": "code",
   "execution_count": 99,
   "id": "82793553",
   "metadata": {},
   "outputs": [
    {
     "name": "stdout",
     "output_type": "stream",
     "text": [
      "### sono was replaced ###\n",
      "Accuracy when replacing \"sono\": 100.0%\n",
      "The average odds is: 1070.6849533909729\n",
      "\n",
      "The average odds when predicting correctly is: 1070.6849533909729\n",
      "The average odds when predicting falsely is: 0.0\n",
      "\n",
      "The average probability for sono was: 0.5017051460250513\n",
      "The average probability for siano was: 0.019917086907566953\n",
      "\n",
      "The average probability for sono when predicting correctly is: 0.5017051460250513\n",
      "The average probability for siano when predicting correctly is: 0.019917086907566953\n",
      "The average probability for sono when predicting falsely is: 0.0\n",
      "The average probability for siano when predicting falsely is: 0.0\n",
      "\n",
      "\n",
      "### siano was replaced ###\n",
      "Accuracy when replacing \"siano\": 74.0%\n",
      "The average odds is: 8.467180789604717\n",
      "\n",
      "The average odds when predicting correctly is: 11.426849577503251\n",
      "The average odds when predicting falsely is: 0.04350808558580299\n",
      "\n",
      "The average probability for siano was: 0.27010721675604654\n",
      "The average probability for sono was: 0.3316563809957975\n",
      "\n",
      "The average probability for siano when predicting correctly is: 0.35688222057037206\n",
      "The average probability for sono when predicting correctly is: 0.29703274914945743\n",
      "The average probability for siano when predicting falsely is: 0.023132205899889555\n",
      "The average probability for sono when predicting falsely is: 0.4302005639430728\n",
      "\n",
      "\n",
      "[[], [\"Le disposizioni analoghe a quelle che sono previste all'articolo 36, paragrafo 3, all'articolo 63, paragrafo 3 e all'articolo 70, paragrafo 3 del regolamento, nonché all'articolo 93, paragrafo 6, all'articolo 94, paragrafo 6 e all'articolo 95, paragrafo 6 del regolamento di applicazione e che sono in vigore il giorno precedente a quello dell'entrata in vigore del regolamento, rimangono applicabili sempreché siano indicate nell'allegato 5 del regolamento di applicazione.\", \"Nel caso in cui, il 1o aprile di ogni anno a partire dal 2006, le emissioni verificate annue di un impianto relative all'anno precedente non siano state iscritte nel registro, l'amministratore del registro blocca il trasferimento di tutte le quote e le unità di Kyoto a partire dal conto di deposito del gestore relativo all'impianto considerato.\", 'Credo che ci siano tre argomentazioni a favore del ritiro.', 'Se gli utenti condividono con noi delle informazioni, possiamo realizzare servizi e prodotti che siano utili per loro.', 'Penso ci siano abbastanza informazioni per prendere una decisione.']]\n"
     ]
    }
   ],
   "source": [
    "experiment_2(corpus, 'sono', 'siano', 50, 10)"
   ]
  },
  {
   "cell_type": "code",
   "execution_count": 100,
   "id": "c54fc71c",
   "metadata": {},
   "outputs": [
    {
     "name": "stdout",
     "output_type": "stream",
     "text": [
      "### sono was replaced ###\n",
      "Accuracy when replacing \"sono\": 92.0%\n",
      "The average odds is: 323.50092208056054\n",
      "\n",
      "The average odds when predicting correctly is: 351.41105461265704\n",
      "The average odds when predicting falsely is: 2.534397961450886\n",
      "\n",
      "The average probability for sono was: 0.31675642627999523\n",
      "The average probability for siano was: 0.014397617363618167\n",
      "\n",
      "The average probability for sono when predicting correctly is: 0.33506020045024343\n",
      "The average probability for siano when predicting correctly is: 0.003277118584366156\n",
      "The average probability for sono when predicting falsely is: 0.10626302332214088\n",
      "The average probability for siano when predicting falsely is: 0.1422833533250163\n",
      "\n",
      "\n",
      "### siano was replaced ###\n",
      "Accuracy when replacing \"siano\": 10.0%\n",
      "The average odds is: 5.8085528994795705\n",
      "\n",
      "The average odds when predicting correctly is: 50.31306123330175\n",
      "The average odds when predicting falsely is: 0.8636075290548848\n",
      "\n",
      "The average probability for siano was: 0.21563974740267855\n",
      "The average probability for sono was: 0.39190904912036467\n",
      "\n",
      "The average probability for siano when predicting correctly is: 0.839901351928711\n",
      "The average probability for sono when predicting correctly is: 0.039738619700074196\n",
      "The average probability for siano when predicting falsely is: 0.14627734689978608\n",
      "The average probability for sono when predicting falsely is: 0.43103909683373026\n",
      "\n",
      "\n",
      "[[\"L'applicazione di tali parametri derivanti dal regolamento di base che disciplina l'organizzazione comune di mercato del tabacco, nonché dagli atti d'adesione, fa sì che i prezzi e i premi stabiliti per il Burley greco sono diversi da quelli fissati per il Burley prodotto nelle altre zone della Comunità, come pure che i prezzi e i premi di talune varietà orientali sono più alti in Grecia che altrove.\", 'La rapidità con cui hanno lavorato i relatori, la celerità con cui la commissione per le libertà ha esaminato le relazioni, nonché la vostra disponibilità a discuterne oggi sono esemplari.', 'La gente dice sempre che sono un mix tra Jeon Ji Hyeon e Kim Tae Hee.', 'Perry, sono Lane.'], ['Gli obiettivi che vogliamo perseguire sono quelli di accrescere la qualità dei servizi, fornire maggiori informazioni ai cittadini quando esprimono i loro pareri – positivi o negativi che siano – su tali servizi, realizzare economie di scala e utilizzare insieme i servizi comuni.', 'Il fatto che siano o meno vincolanti è spesso una questione complessa che richiede una valutazione oggettiva.', 'La Eesti Pank conferisce istruzioni affinché tali trasferimenti alla BCE siano effettuati.', 'Sotto vari punti di vista il quadro dei tre nuovi Stati membri è risultato più positivo rispetto alla media europea, nonostante siano stati evidenziati anche alcuni aspetti particolarmente negativi.', 'Tuttavia, obiettiamo alla soppressione della distinzione tra acque costiere e acque interne, in quanto in tale modo talune aree di balneazione in Portogallo, come le spiagge fluviali, sarebbero riclassificate come non pulite, nonostante il fatto che siano atte all’ uso e non abbiano causato problemi sanitari.']]\n"
     ]
    }
   ],
   "source": [
    "experiment_2(corpus, 'sono', 'siano', 50, 0.1)"
   ]
  },
  {
   "cell_type": "code",
   "execution_count": 106,
   "id": "1b8f38b5",
   "metadata": {},
   "outputs": [
    {
     "name": "stdout",
     "output_type": "stream",
     "text": [
      "### sono was replaced ###\n",
      "Accuracy when replacing \"sono\": 90.0%\n",
      "The average odds is: 900.9235939409925\n",
      "\n",
      "The average odds when predicting correctly is: 999.9841444973056\n",
      "The average odds when predicting falsely is: 9.378638934175594\n",
      "\n",
      "The average probability for sono was: 0.37969800011720506\n",
      "The average probability for siano was: 0.007068398124346799\n",
      "\n",
      "The average probability for sono when predicting correctly is: 0.3900635900338077\n",
      "The average probability for siano when predicting correctly is: 0.00382853117750162\n",
      "The average probability for sono when predicting falsely is: 0.2864076908677816\n",
      "The average probability for siano when predicting falsely is: 0.03622720064595342\n",
      "\n",
      "\n",
      "### siano was replaced ###\n",
      "Accuracy when replacing \"siano\": 12.0%\n",
      "The average odds is: 12.069433474466841\n",
      "\n",
      "The average odds when predicting correctly is: 89.09440286585601\n",
      "The average odds when predicting falsely is: 1.5660285574592274\n",
      "\n",
      "The average probability for siano was: 0.27474085523618635\n",
      "The average probability for sono was: 0.37857382010337615\n",
      "\n",
      "The average probability for siano when predicting correctly is: 0.9023941357930502\n",
      "The average probability for sono when predicting correctly is: 0.018186937319114804\n",
      "The average probability for siano when predicting falsely is: 0.18915177152388674\n",
      "The average probability for sono when predicting falsely is: 0.4277174859375936\n",
      "\n",
      "\n",
      "[[\"Recenti controlli disposti dalle autorità elleniche e altri dati oggi disponibili mostrano che il 10,5% delle imprese non sono registrate presso l' Istituto di previdenza sociale e che la percentuale dei lavoratori non affiliati oscilla tra il 21 e il 30% con la conseguente perdita di diversi miliardi di euro per le finanze pubbliche e soprattutto per gli enti previdenziali.\", 'Solo che non sono sicura sia una cosa che voglia ancora festeggiare.', 'I suoi genitori non devono sapere che sono stata parte di questo inganno.', \"Contrariamente a quanto si pensa comunemente, sono di più gli europei che stanno emigrando dall'Europa verso l'America Latina e i Caraibi che quelli in direzione opposta.\", \"Attualmente dall'analisi compiuta risulta che le due maggiori difficoltà ostacolanti la convocazione di una conferenza di pace sono connesse, in primo luogo, al ruolo assegnato alla conferenza stessa, ed in secondo luogo alla composizione della delegazione palestinese chiamata a farne parte.\"], ['Non possiamo avere una politica comune della pesca che impone restrizioni a livello comunitario e poi lascia che siano i singoli Stati membri a scegliere quali problemi affrontare in base ai fondi che hanno a disposizione.', \"No, in realta' lui pensa che i nomi siano ancore che affondano l'anima.\", 'In particolare nella realizzazione di progetti comuni, è necessario, tra l’altro mediante l’applicazione di una contabilità dettagliata e trasparente, garantire che gli utenti dello spazio aereo non siano gravati da duplici costi.', 'Meglio che le fonti di Niska siano buone.', 'Ritengo che le parole del Commissario siano certo incoraggianti.']]\n"
     ]
    }
   ],
   "source": [
    "experiment_2(corpus, 'sono', 'siano', 50, 1/15)"
   ]
  },
  {
   "cell_type": "code",
   "execution_count": 126,
   "id": "2ffb9f03",
   "metadata": {},
   "outputs": [
    {
     "name": "stdout",
     "output_type": "stream",
     "text": [
      "Accuracy when replacing \"sono\": 84.0%\n",
      "Accuracy when replacing \"siano\": 70.0%\n",
      "[[], []]\n"
     ]
    }
   ],
   "source": [
    "experiment_2(corpus, 'sono', 'siano', 50, 15)"
   ]
  },
  {
   "cell_type": "code",
   "execution_count": 134,
   "id": "7efbe6e5",
   "metadata": {},
   "outputs": [
    {
     "name": "stdout",
     "output_type": "stream",
     "text": [
      "Accuracy when replacing \"è\": 98.0%\n",
      "Accuracy when replacing \"sia\": 36.0%\n",
      "[[], []]\n",
      "Accuracy when replacing \"è\": 94.0%\n",
      "Accuracy when replacing \"sia\": 42.0%\n",
      "[[], []]\n",
      "Accuracy when replacing \"è\": 94.0%\n",
      "Accuracy when replacing \"sia\": 58.0%\n",
      "[[], []]\n",
      "Accuracy when replacing \"è\": 88.0%\n",
      "Accuracy when replacing \"sia\": 60.0%\n",
      "[[], []]\n",
      "Accuracy when replacing \"è\": 92.0%\n",
      "Accuracy when replacing \"sia\": 60.0%\n",
      "[[], []]\n"
     ]
    }
   ],
   "source": [
    "for i in [1, 2, 3, 4, 5]:\n",
    "    experiment_2(corpus, 'è', 'sia', 50, i)"
   ]
  },
  {
   "cell_type": "code",
   "execution_count": 136,
   "id": "eb4095cb",
   "metadata": {},
   "outputs": [
    {
     "name": "stdout",
     "output_type": "stream",
     "text": [
      "Accuracy when replacing \"sono\": 100.0%\n",
      "Accuracy when replacing \"siano\": 47.0%\n",
      "[[], []]\n",
      "Accuracy when replacing \"sono\": 95.0%\n",
      "Accuracy when replacing \"siano\": 52.0%\n",
      "[[], []]\n",
      "Accuracy when replacing \"sono\": 94.0%\n",
      "Accuracy when replacing \"siano\": 70.0%\n",
      "[[], []]\n",
      "Accuracy when replacing \"sono\": 88.0%\n",
      "Accuracy when replacing \"siano\": 69.0%\n",
      "[[], []]\n",
      "Accuracy when replacing \"sono\": 93.0%\n",
      "Accuracy when replacing \"siano\": 75.0%\n",
      "[[], []]\n"
     ]
    }
   ],
   "source": [
    "for i in [5,7, 10,12, 15]:\n",
    "    experiment_2(corpus, 'sono', 'siano', 100, i)"
   ]
  },
  {
   "cell_type": "code",
   "execution_count": 114,
   "id": "7176e2b1",
   "metadata": {},
   "outputs": [
    {
     "name": "stdout",
     "output_type": "stream",
     "text": [
      "Accuracy when replacing \"erano\": 97.0%\n",
      "Accuracy when replacing \"fossero\": 51.666666666666664%\n",
      "[[], []]\n",
      "Accuracy when replacing \"erano\": 93.33333333333333%\n",
      "Accuracy when replacing \"fossero\": 63.333333333333336%\n",
      "[[], []]\n",
      "Accuracy when replacing \"erano\": 92.66666666666667%\n",
      "Accuracy when replacing \"fossero\": 67.33333333333333%\n",
      "[[], []]\n",
      "Accuracy when replacing \"erano\": 91.0%\n",
      "Accuracy when replacing \"fossero\": 72.66666666666667%\n",
      "[[], []]\n",
      "Accuracy when replacing \"erano\": 92.0%\n",
      "Accuracy when replacing \"fossero\": 73.0%\n",
      "[[], []]\n",
      "Accuracy when replacing \"erano\": 88.66666666666667%\n",
      "Accuracy when replacing \"fossero\": 77.66666666666667%\n",
      "[[], []]\n"
     ]
    }
   ],
   "source": [
    "for i in [1,1.5,2,2.5,3,3.5]:\n",
    "    experiment_2(corpus, 'erano', 'fossero', 300, i)"
   ]
  },
  {
   "cell_type": "code",
   "execution_count": 135,
   "id": "62a6a269",
   "metadata": {},
   "outputs": [
    {
     "name": "stdout",
     "output_type": "stream",
     "text": [
      "Accuracy when replacing \"è\": 96.0%\n",
      "Accuracy when replacing \"sia\": 42.0%\n",
      "[[], []]\n",
      "Accuracy when replacing \"sono\": 96.0%\n",
      "Accuracy when replacing \"siano\": 48.0%\n",
      "[[], []]\n",
      "Accuracy when replacing \"erano\": 90.0%\n",
      "Accuracy when replacing \"fossero\": 68.0%\n",
      "[[], []]\n"
     ]
    }
   ],
   "source": [
    "experiment_2(corpus, 'è', 'sia', 50, 2.5)\n",
    "experiment_2(corpus, 'sono', 'siano', 50, 2.5)\n",
    "experiment_2(corpus, 'erano', 'fossero', 50, 2.5)"
   ]
  },
  {
   "cell_type": "code",
   "execution_count": 137,
   "id": "35cc5380",
   "metadata": {},
   "outputs": [
    {
     "name": "stdout",
     "output_type": "stream",
     "text": [
      "Accuracy when replacing \"è\": 96.0%\n",
      "Accuracy when replacing \"sia\": 40.666666666666664%\n",
      "[[], []]\n",
      "Accuracy when replacing \"sono\": 97.33333333333333%\n",
      "Accuracy when replacing \"siano\": 41.333333333333336%\n",
      "[[], []]\n",
      "Accuracy when replacing \"erano\": 92.0%\n",
      "Accuracy when replacing \"fossero\": 68.66666666666667%\n",
      "[[], []]\n"
     ]
    }
   ],
   "source": [
    "experiment_2(corpus, 'è', 'sia', 150, 2.5)\n",
    "experiment_2(corpus, 'sono', 'siano', 150, 2.5)\n",
    "experiment_2(corpus, 'erano', 'fossero', 150, 2.5)"
   ]
  },
  {
   "cell_type": "code",
   "execution_count": null,
   "id": "0a1e5086",
   "metadata": {},
   "outputs": [],
   "source": []
  }
 ],
 "metadata": {
  "kernelspec": {
   "display_name": "Python 3 (ipykernel)",
   "language": "python",
   "name": "python3"
  },
  "language_info": {
   "codemirror_mode": {
    "name": "ipython",
    "version": 3
   },
   "file_extension": ".py",
   "mimetype": "text/x-python",
   "name": "python",
   "nbconvert_exporter": "python",
   "pygments_lexer": "ipython3",
   "version": "3.9.13"
  }
 },
 "nbformat": 4,
 "nbformat_minor": 5
}
